{
 "cells": [
  {
   "cell_type": "markdown",
   "metadata": {},
   "source": [
    "# Homework 16 Statistics basics"
   ]
  },
  {
   "cell_type": "markdown",
   "metadata": {},
   "source": [
    "## Задание 1. Базовое изучение\n",
    "\n",
    "Изучить представленный набор данных на основе [описания его столбцов](https://raw.githubusercontent.com/obulygin/pyda_homeworks/master/statistics_basics/horse_data.names) и выбрать 8 столбцов для дальнейшего изучения (среди них должны быть как числовые, так и категориальные). Провести расчет базовых метрик для них, кратко описать результаты."
   ]
  },
  {
   "cell_type": "code",
   "execution_count": null,
   "metadata": {},
   "outputs": [],
   "source": [
    "import pandas as pd\n",
    "pd.set_option('display.max_rows', None)\n",
    "\n",
    "# horse_data\n",
    "hd = pd.read_csv('horse_data.csv', na_values='?', header=None)\n",
    "\n",
    "# Выберем для работы первые 8 столбцов\n",
    "cols = range(8,28)\n",
    "hd.drop(hd.columns[cols], axis=1, inplace=True)\n",
    "hd.columns = [\n",
    "    'surgery',\n",
    "    'age',\n",
    "    'hospital_number',\n",
    "    'rectal_temperature',\n",
    "    'pulse',\n",
    "    'respitatory_rate',\n",
    "    'extremities_temperature',\n",
    "    'peripheral_pulse'\n",
    "]"
   ]
  },
  {
   "cell_type": "code",
   "execution_count": null,
   "metadata": {},
   "outputs": [],
   "source": [
    "# Расчет полного набора метрик целесообразно вести для числовых данных\n",
    "# Для категориальных же можно посмотреть на распределение по доступным значениям"
   ]
  },
  {
   "cell_type": "code",
   "execution_count": null,
   "metadata": {},
   "outputs": [],
   "source": [
    "# surgery (хирургическое вмешательство, 1 - имело место, 2 - нет)\n",
    "hd.groupby('surgery').count().age.sort_values(ascending=False)\n",
    "\n",
    "# видно, что большинству лошадей потребовалось хирургическое вмешательство"
   ]
  },
  {
   "cell_type": "code",
   "execution_count": null,
   "metadata": {},
   "outputs": [],
   "source": [
    "# age (возраст, категориальная величина, 1 - взрослая лошадь, 2(9?) - молодая)\n",
    "hd.groupby('age').count().hospital_number.sort_values(ascending=False)\n",
    "\n",
    "# взрослых лошадей среди пациентов было больше"
   ]
  },
  {
   "cell_type": "code",
   "execution_count": null,
   "metadata": {},
   "outputs": [],
   "source": [
    "# hospital_number (идентификатор лошади-пациента, может повторяться, если лошадь поступала на лечение более 1 раза)\n",
    "hd.groupby('hospital_number').count().age.sort_values(ascending=False)\n",
    "\n",
    "# видно, что некоторые лошади лечились дважды"
   ]
  },
  {
   "cell_type": "code",
   "execution_count": null,
   "metadata": {},
   "outputs": [],
   "source": [
    "# rectal_temperature (ректальная температура, нормальное значение 37.8)\n",
    "# describe + mode\n",
    "pd.concat([hd.rectal_temperature.describe(),pd.Series(data=hd.rectal_temperature.mode().values, index=['mode'])])\n",
    "\n",
    "# большинство лошадей проходили лечение не зря (мода и медиана выше нормального значения температуры)\n",
    "# значение среднего квардатичного отклонения мало (температура не может колебаться в широких пределах)"
   ]
  },
  {
   "cell_type": "code",
   "execution_count": null,
   "metadata": {},
   "outputs": [],
   "source": [
    "# pulse (пульс, нормальное значение - 30-40)\n",
    "pd.concat([hd.pulse.describe(),pd.Series(data=hd.pulse.mode().values, index=['mode'])])\n",
    "\n",
    "# видно, что пульс у лошадей скорее повышенный (медиана значительно выше нормального диапазона),\n",
    "# однако модальное значение незначительно превышает норму\n",
    "# очень высокое максимальное значение (выброс), а также среднее квадратичное отклонение"
   ]
  },
  {
   "cell_type": "code",
   "execution_count": null,
   "metadata": {},
   "outputs": [],
   "source": [
    "# respitatory_rate (частота дыхания, нормальный диапазон 8-10)\n",
    "pd.concat([hd.respitatory_rate.describe(),pd.Series(data=hd.respitatory_rate.mode().values, index=['mode'])])\n",
    "\n",
    "# разброс данных довольно большой, большая часть значений превышает норму"
   ]
  },
  {
   "cell_type": "code",
   "execution_count": null,
   "metadata": {},
   "outputs": [],
   "source": [
    "# extremities_temperature (температура конечностей, категориальное значение)\n",
    "hd.groupby('extremities_temperature').count().age.sort_values(ascending=False)\n",
    "\n",
    "# большинство значений приходится на значение 3 (Cool), что говорит о вероятном шоковом состоянии"
   ]
  },
  {
   "cell_type": "code",
   "execution_count": null,
   "metadata": {},
   "outputs": [],
   "source": [
    "# peripheral_pulse (периферический пусль, категориальное значение)\n",
    "hd.groupby('peripheral_pulse').count().age.sort_values(ascending=False)\n",
    "\n",
    "# распределение между нормальным и сниженным значениями примерно 50/50"
   ]
  },
  {
   "cell_type": "code",
   "execution_count": null,
   "metadata": {},
   "outputs": [],
   "source": []
  },
  {
   "cell_type": "markdown",
   "metadata": {},
   "source": [
    "## Задание 2. Работа с выбросами\n",
    "\n",
    "В выбранных числовых столбцах найти выбросы, выдвинуть гипотезы об их причинах и проинтерпретировать результаты. Принять и обосновать решение о дальнейшей работе с ними."
   ]
  },
  {
   "cell_type": "code",
   "execution_count": null,
   "metadata": {},
   "outputs": [],
   "source": [
    "# rectal_temperature (ректальная температура, нормальное значение 37.8)\n",
    "pd.concat([hd.rectal_temperature.describe(),pd.Series(data=hd.rectal_temperature.mode().values, index=['mode'])])\n",
    "\n",
    "# Максимальное и минимальное значения температуры достатночно хорошо согласуются с действительностью, считаю, что\n",
    "# выделять выбросы в данном случае нецелесообразно"
   ]
  },
  {
   "cell_type": "code",
   "execution_count": null,
   "metadata": {},
   "outputs": [],
   "source": []
  },
  {
   "cell_type": "code",
   "execution_count": null,
   "metadata": {
    "scrolled": true
   },
   "outputs": [],
   "source": [
    "# pulse (пульс, нормальное значение - 30-40)\n",
    "pd.concat([hd.pulse.describe(),pd.Series(data=hd.pulse.mode().values, index=['mode'])])\n",
    "\n",
    "# Видим, что максимальное значение сильно превышает нормальное; оценим, насколько это естественно, отсортировав\n",
    "# датафрейм по значению pulse"
   ]
  },
  {
   "cell_type": "code",
   "execution_count": null,
   "metadata": {},
   "outputs": [],
   "source": [
    "hd.sort_values('pulse', ascending=False).head(50)\n",
    "# Видим, что значение 184 достаточно сильно выбивается из ряда; возможно, однако, что подобное значение\n",
    "# вполне естественно и могло быть вызвано физиологическими факторами. Я бы не стал исключать его из анализа,"
   ]
  },
  {
   "cell_type": "code",
   "execution_count": null,
   "metadata": {},
   "outputs": [],
   "source": []
  },
  {
   "cell_type": "code",
   "execution_count": null,
   "metadata": {
    "scrolled": true
   },
   "outputs": [],
   "source": [
    "# respitatory_rate (частота дыхания, нормальный диапазон 8-10)\n",
    "pd.concat([hd.respitatory_rate.describe(),pd.Series(data=hd.respitatory_rate.mode().values, index=['mode'])])\n",
    "\n",
    "# Аналогично, видно, что максимальное значение из набора сильно превышает норму; отсортируем"
   ]
  },
  {
   "cell_type": "code",
   "execution_count": null,
   "metadata": {},
   "outputs": [],
   "source": [
    "hd.sort_values('respitatory_rate', ascending=False).head(50)\n",
    "\n",
    "# Видим, что значения частоты дыхания распределены достаточно равномерно; с учетом данного фактора, а также указания о\n",
    "# том, что данный параметр сильно варьирует (из описания данных), я бы не стал исключать из анализа какие-либо значения"
   ]
  },
  {
   "cell_type": "code",
   "execution_count": null,
   "metadata": {},
   "outputs": [],
   "source": []
  },
  {
   "cell_type": "markdown",
   "metadata": {},
   "source": [
    "## Задание 3. Работа с пропусками\n",
    "\n",
    "Рассчитать количество пропусков для всех выбранных столбцов. Принять и обосновать решение о методе работы с пропусками по каждому столбцу, сформировать датафрейм, в котором пропуски будут отсутствовать."
   ]
  },
  {
   "cell_type": "code",
   "execution_count": null,
   "metadata": {},
   "outputs": [],
   "source": [
    "for col in hd.columns:\n",
    "    mis = hd[col].isnull().mean()\n",
    "    print(f'{col} - {mis :.1%}')"
   ]
  },
  {
   "cell_type": "code",
   "execution_count": null,
   "metadata": {},
   "outputs": [],
   "source": [
    "# Имеем 0,3% пропусков в стобце surgery; помним, что большинство лошадей было прооперировано, поэтому заполним\n",
    "# пропуски значением 1 (Да)\n",
    "\n",
    "hd.surgery.fillna('1', inplace=True)"
   ]
  },
  {
   "cell_type": "code",
   "execution_count": null,
   "metadata": {
    "scrolled": true
   },
   "outputs": [],
   "source": [
    "for col in hd.columns:\n",
    "    mis = hd[col].isnull().mean()\n",
    "    print(f'{col} - {mis :.1%}')"
   ]
  },
  {
   "cell_type": "code",
   "execution_count": null,
   "metadata": {},
   "outputs": [],
   "source": [
    "# Заполним пропуски в категориальных столбцах. Начнем с extremities_temperature, и вновь посмотрим на распределение\n",
    "# температуры\n",
    "hd.groupby('extremities_temperature').count().age.sort_values(ascending=False)"
   ]
  },
  {
   "cell_type": "code",
   "execution_count": null,
   "metadata": {},
   "outputs": [],
   "source": [
    "# Поступим следующим образом: будем заполнять пропуски одним из значений выше, которое получим\n",
    "# с помощью генератора случайных величин с учетом веса каждого значения. Для этого применим функцию"
   ]
  },
  {
   "cell_type": "code",
   "execution_count": null,
   "metadata": {},
   "outputs": [],
   "source": [
    "\n",
    "def fill_ext_temp(row):\n",
    "    import random\n",
    "    '''\n",
    "    extremities_temperature\n",
    "    3.0    109\n",
    "    1.0     78\n",
    "    2.0     30\n",
    "    4.0     27\n",
    "    '''\n",
    "    tsum = 109+78+30+27\n",
    "    weights_ = [ 109/tsum, 78/tsum, 30/tsum, 27/tsum ]\n",
    "    if pd.isnull(row['extremities_temperature']):    \n",
    "        return random.choices([3,1,2,4], weights=weights_ ,k=1)[0]\n",
    "    return row['extremities_temperature']"
   ]
  },
  {
   "cell_type": "code",
   "execution_count": null,
   "metadata": {},
   "outputs": [],
   "source": [
    "hd['extremities_temperature'] = hd.apply(fill_ext_temp, axis=1)\n",
    "hd"
   ]
  },
  {
   "cell_type": "code",
   "execution_count": null,
   "metadata": {},
   "outputs": [],
   "source": [
    "# Аналогичным образом поступим со столбцом peripheral_pulse; посмотрим на распределение\n",
    "hd.groupby('peripheral_pulse').count().age.sort_values(ascending=False)"
   ]
  },
  {
   "cell_type": "code",
   "execution_count": null,
   "metadata": {},
   "outputs": [],
   "source": [
    "def fill_per_pulse(row):\n",
    "    import random\n",
    "    '''\n",
    "    peripheral_pulse\n",
    "    1.0    115\n",
    "    3.0    103\n",
    "    4.0      8\n",
    "    2.0      5\n",
    "    '''\n",
    "    tsum = 115+103+8+5\n",
    "    weights_ = [ 115/tsum, 103/tsum, 8/tsum, 5/tsum ]\n",
    "    if pd.isnull(row['peripheral_pulse']):    \n",
    "        return random.choices([1,3,4,2], weights=weights_ ,k=1)[0]\n",
    "    return row['peripheral_pulse']"
   ]
  },
  {
   "cell_type": "code",
   "execution_count": null,
   "metadata": {},
   "outputs": [],
   "source": [
    "hd['peripheral_pulse'] = hd.apply(fill_per_pulse, axis=1)\n",
    "hd"
   ]
  },
  {
   "cell_type": "code",
   "execution_count": null,
   "metadata": {},
   "outputs": [],
   "source": [
    "# Для заполнения пропусков в числовых стобцах сделаем допущение о том, что:\n",
    "# - rectal_temperature связана с extremities_temperature\n",
    "# - pulse связан с peripheral_pulse\n",
    "# - respitatory_rate связан с peripheral_pulse\n",
    "# Наконец, заполним пропуски медианным значением, полученным после группировки по выбранному категориальному столбцу"
   ]
  },
  {
   "cell_type": "code",
   "execution_count": null,
   "metadata": {},
   "outputs": [],
   "source": [
    "hd.rectal_temperature.fillna(hd.groupby('extremities_temperature').rectal_temperature.transform('median'), inplace=True)\n",
    "hd.pulse.fillna(hd.groupby('peripheral_pulse').pulse.transform('median'), inplace=True)\n",
    "hd.respitatory_rate.fillna(hd.groupby('peripheral_pulse').respitatory_rate.transform('median'), inplace=True)"
   ]
  },
  {
   "cell_type": "code",
   "execution_count": null,
   "metadata": {
    "scrolled": false
   },
   "outputs": [],
   "source": [
    "# Убедимся, что пропуски отсутствуют\n",
    "for col in hd.columns:\n",
    "    mis = hd[col].isnull().mean()\n",
    "    print(f'{col} - {mis :.1%}')"
   ]
  },
  {
   "cell_type": "code",
   "execution_count": null,
   "metadata": {},
   "outputs": [],
   "source": [
    "hd.describe()\n",
    "'''\n",
    "Сравним метрики числовых столбцов исходного датафрейма, а также датафрейма с заполненными пропусками:\n",
    "\n",
    "#####################\n",
    "rectal_temperature\n",
    "count    240.000000\n",
    "mean      38.167917\n",
    "std        0.732289\n",
    "min       35.400000\n",
    "25%       37.800000\n",
    "50%       38.200000\n",
    "75%       38.500000\n",
    "max       40.800000\n",
    "mode      38.000000\n",
    "\n",
    "count    300.000000\n",
    "mean      38.162000\n",
    "std        0.655634\n",
    "min       35.400000\n",
    "25%       37.900000\n",
    "50%       38.100000\n",
    "75%       38.500000\n",
    "max       40.800000\n",
    "mode      38.100000\n",
    "\n",
    "#####################\n",
    "pulse\n",
    "count    276.000000\n",
    "mean      71.913043\n",
    "std       28.630557\n",
    "min       30.000000\n",
    "25%       48.000000\n",
    "50%       64.000000\n",
    "75%       88.000000\n",
    "max      184.000000\n",
    "mode      48.000000\n",
    "\n",
    "count    300.000000\n",
    "mean      71.600000\n",
    "std       27.849452\n",
    "min       30.000000\n",
    "25%       48.000000\n",
    "50%       64.000000\n",
    "75%       88.000000\n",
    "max      184.000000\n",
    "mode      48.000000\n",
    "\n",
    "#####################\n",
    "respitatory_rate\n",
    "count    242.000000\n",
    "mean      30.417355\n",
    "std       17.642231\n",
    "min        8.000000\n",
    "25%       18.500000\n",
    "50%       24.500000\n",
    "75%       36.000000\n",
    "max       96.000000\n",
    "mode      20.000000\n",
    "\n",
    "count    300.000000\n",
    "mean      29.786667\n",
    "std       15.987123\n",
    "min        8.000000\n",
    "25%       20.000000\n",
    "50%       28.000000\n",
    "75%       35.000000\n",
    "max       96.000000\n",
    "mode      30.000000\n",
    "\n",
    "\n",
    "Видно, что заметные отличия наблюдаются для метрик respitatory_rate: изменилась и медиана, и мода, и СКО.\n",
    "В остальном же существенных изменений удалось избежать\n",
    "'''"
   ]
  }
 ],
 "metadata": {
  "kernelspec": {
   "display_name": "Python 3",
   "language": "python",
   "name": "python3"
  },
  "language_info": {
   "codemirror_mode": {
    "name": "ipython",
    "version": 3
   },
   "file_extension": ".py",
   "mimetype": "text/x-python",
   "name": "python",
   "nbconvert_exporter": "python",
   "pygments_lexer": "ipython3",
   "version": "3.8.3"
  }
 },
 "nbformat": 4,
 "nbformat_minor": 4
}
