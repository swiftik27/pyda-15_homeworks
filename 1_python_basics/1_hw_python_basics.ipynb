{
 "cells": [
  {
   "cell_type": "markdown",
   "metadata": {},
   "source": [
    "# Homework 1 Python basics"
   ]
  },
  {
   "cell_type": "markdown",
   "metadata": {},
   "source": [
    "## Task 1\n",
    "Даны 2 переменных, в которых хранятся строки произвольной длины: phrase_1 и phrase_2.\n",
    "Напишите код, который проверяет какая из этих строк длиннее."
   ]
  },
  {
   "cell_type": "code",
   "execution_count": 92,
   "metadata": {},
   "outputs": [
    {
     "name": "stdout",
     "output_type": "stream",
     "text": [
      "Looks like the phrases have same length\n"
     ]
    }
   ],
   "source": [
    "phrase_1 = 'apple'\n",
    "phrase_2 = 'grape'\n",
    "\n",
    "#phrase_2 = 'Насколько проще было бы писать программы, если бы не заказчики'\n",
    "#phrase_1 = '640Кб должно хватить для любых задач. Билл Гейтс (по легенде)'\n",
    "\n",
    "if len(phrase_1) > len(phrase_2):\n",
    "    print('Phrase 1 is longer than phrase 2')\n",
    "elif len(phrase_1) < len(phrase_2):\n",
    "    print('Phrase 2 is longer than phrase 1')\n",
    "else:\n",
    "    print('Looks like the phrases have same length')"
   ]
  },
  {
   "cell_type": "markdown",
   "metadata": {},
   "source": [
    "## Task 2\n",
    "Дана переменная, в которой хранится четырехзначное число (год).\n",
    "Необходимо написать программу, которая выведет, является ли данный год високосным или обычным."
   ]
  },
  {
   "cell_type": "code",
   "execution_count": null,
   "metadata": {},
   "outputs": [],
   "source": [
    "#year = 986\n",
    "year = 1000\n",
    "#year = 1581\n",
    "#year = 2020\n",
    "#year = 2800\n",
    "\n",
    "if len(str(year)) < 4:\n",
    "    print('Year must consist of 4 digits (greater than 999)')\n",
    "else:\n",
    "    # According to https://ru.wikipedia.org/wiki/Високосный_год\n",
    "    # && https://docs.microsoft.com/ru-ru/office/troubleshoot/excel/determine-a-leap-year\n",
    "    # 1. Если год делится на 4 без остатка, перейдите на шаг 2. В противном случае перейдите к выполнению действия 5.\n",
    "    # 2. Если год делится на 100 без остатка, перейдите на шаг 3. В противном случае перейдите к выполнению действия 4.\n",
    "    # 3. Если год делится на 400 без остатка, перейдите на шаг 4. В противном случае перейдите к выполнению действия 5.\n",
    "    # 4. Год високосный (366 дней).\n",
    "    # 5. Год не високосный год (365 дней)\n",
    "    \n",
    "    if year < 1582:\n",
    "        if (year % 4) == 0:\n",
    "            print('Year', year, 'is leap')\n",
    "        else:\n",
    "            print('Year', year, 'is not leap')\n",
    "    else:\n",
    "        if not (year % 4) == 0:\n",
    "            print('Year', year, 'is not leap')\n",
    "        elif not(year % 100) == 0:\n",
    "            print('Year', year, 'is leap')\n",
    "        elif (year % 400) == 0:\n",
    "            print('Year', year, 'is leap')\n",
    "        else:\n",
    "            print('Year', year, 'is not leap')\n",
    "            "
   ]
  },
  {
   "cell_type": "markdown",
   "metadata": {},
   "source": [
    "## Task 3\n",
    "Необходимо написать программу, которая будет запрашивать у пользователя месяц и дату рождения и\n",
    "выводить соответствующий знак зодиака."
   ]
  },
  {
   "cell_type": "code",
   "execution_count": null,
   "metadata": {},
   "outputs": [],
   "source": [
    "day = int(input('Enter day of birth '))\n",
    "month = str(input('Enter month of bitrh ')).lower().strip()\n",
    "'''\n",
    "According to https://microexcel.ru/znaki-zodiaka/\n",
    "Овен\t\t21 марта — 19 апреля\n",
    "Телец\t\t20 апреля — 20 мая\n",
    "Близнецы\t21 мая — 20 июня\n",
    "Рак\t\t\t21 июня — 22 июля\n",
    "Лев\t\t\t23 июля — 22 августа\n",
    "Дева\t\t23 августа — 22 сентября\n",
    "Весы\t\t23 сентября — 22 октября\n",
    "Скорпион\t23 октября — 21 ноября\n",
    "Стрелец\t\t22 ноября — 21 декабря\n",
    "Козерог\t\t22 декабря — 19 января\n",
    "Водолей\t\t20 января — 18 февраля\n",
    "Рыбы\t\t19 февраля — 20 марта\n",
    "'''\n",
    "\n",
    "if (month == 'март' and 21 <= day <= 31) or (month == 'апрель' and 1 <= day <= 19):\n",
    "    print('Your zodiacal sign is Овен')\n",
    "elif (month == 'апрель' and 20 <= day <= 30) or (month == 'май' and 1 <= day <= 20):\n",
    "    print('Your zodiacal sign is Телец')\n",
    "elif (month == 'май' and 21 <= day <= 31) or (month == 'июнь' and 1 <= day <= 20):\n",
    "    print('Your zodiacal sign is Близнецы')\n",
    "elif (month == 'июнь' and 21 <= day <= 30) or (month == 'июль' and 1 <= day <= 22):\n",
    "    print('Your zodiacal sign is Рак')\n",
    "elif (month == 'июль' and 23 <= day <= 31) or (month == 'август' and 1 <= day <= 22):\n",
    "    print('Your zodiacal sign is Лев')\n",
    "elif (month == 'август' and 23 <= day <= 31) or (month == 'сентябрь' and 1 <= day <= 22):\n",
    "    print('Your zodiacal sign is Дева')\n",
    "elif (month == 'сентябрь' and 23 <= day <= 30) or (month == 'октябрь' and 1 <= day <= 22):\n",
    "    print('Your zodiacal sign is Весы')\n",
    "elif (month == 'октябрь' and 23 <= day <= 31) or (month == 'ноябрь' and 1 <= day <= 21):\n",
    "    print('Your zodiacal sign is Скорпион')\n",
    "elif (month == 'ноябрь' and 22 <= day <= 30) or (month == 'декабрь' and 1 <= day <= 21):\n",
    "    print('Your zodiacal sign is Стрелец')\n",
    "elif (month == 'декабрь' and 22 <= day <= 31) or (month == 'январь' and 1 <= day <= 19):\n",
    "    print('Your zodiacal sign is Козерог')\n",
    "elif (month == 'январь' and 20 <= day <= 31) or (month == 'февраль' and 1 <= day <= 18):\n",
    "    print('Your zodiacal sign is Водолей')\n",
    "elif (month == 'февраль' and 19 <= day <= 29) or (month == 'март' and 1 <= day <= 20):\n",
    "    print('Your zodiacal sign is Рыбы')\n",
    "else:\n",
    "    print('Check input, must have been some errors...')"
   ]
  },
  {
   "cell_type": "markdown",
   "metadata": {},
   "source": [
    "## Task 4\n",
    "Вам нужно написать программу для подбора упаковок по размерам товара. Размеры хранятся в переменных (в сантиметрах):\n",
    "\n",
    "width = 10\n",
    "length = 205\n",
    "height = 5\n",
    "Используйте следующие правила:\n",
    "\n",
    "если каждое из трех измерений менее 15 сантиметров, то выведите на экран “Коробка №1”;\n",
    "если хотя бы одно из измерений больше 15 сантиметров, но менее 50 сантиметров, то выводите “Коробка №2”;\n",
    "если длина товара больше 2 метров, то выводите “Упаковка для лыж”;\n",
    "во всех остальных случаях выводите “Стандартная коробка №3”."
   ]
  },
  {
   "cell_type": "code",
   "execution_count": 65,
   "metadata": {},
   "outputs": [
    {
     "name": "stdout",
     "output_type": "stream",
     "text": [
      "Skis cover\n"
     ]
    }
   ],
   "source": [
    "width = 300\n",
    "length = 201\n",
    "height = 45\n",
    "\n",
    "if length > 200:\n",
    "    print('Skis cover')\n",
    "elif width < 15 and length < 15 and height < 15:\n",
    "    print('Box 1')\n",
    "elif 15 < width < 50 or 15 < length < 50 or 15 < height < 50:\n",
    "    print('Box 2')\n",
    "else:\n",
    "    print('Standard box 3')"
   ]
  },
  {
   "cell_type": "markdown",
   "metadata": {},
   "source": [
    "## Task 5\n",
    "Дана переменная, в которой хранится шестизначное число (номер проездного билета). Напишите программу, которая будет определять, является ли данный билет “счастливым”. Билет считается счастливым, если сумма первых трех цифр совпадает с суммой последних трех цифр номера."
   ]
  },
  {
   "cell_type": "code",
   "execution_count": 4,
   "metadata": {},
   "outputs": [
    {
     "name": "stdout",
     "output_type": "stream",
     "text": [
      "17 is equal to 17 , so you're a lucky one\n"
     ]
    }
   ],
   "source": [
    "#number = 123456\n",
    "#number = 456654\n",
    "number = 458755\n",
    "\n",
    "ticket = str(number)\n",
    "if len(ticket) != 6:\n",
    "    print('Check input, number must consist of 6 digits')\n",
    "else:\n",
    "    firstPart = int(ticket[0]) + int(ticket[1]) + int(ticket[2])\n",
    "    secondPart = int(ticket[3]) + int(ticket[4]) + int(ticket[5])\n",
    "    if firstPart == secondPart:\n",
    "        print(firstPart, 'is equal to', secondPart, ', so you\\'re a lucky one' )\n",
    "    else:\n",
    "        print('Sorry,', firstPart, 'is not equal to', secondPart, ', you\\'re not that lucky...')\n"
   ]
  }
 ],
 "metadata": {
  "kernelspec": {
   "display_name": "Python 3",
   "language": "python",
   "name": "python3"
  },
  "language_info": {
   "codemirror_mode": {
    "name": "ipython",
    "version": 3
   },
   "file_extension": ".py",
   "mimetype": "text/x-python",
   "name": "python",
   "nbconvert_exporter": "python",
   "pygments_lexer": "ipython3",
   "version": "3.8.3"
  }
 },
 "nbformat": 4,
 "nbformat_minor": 4
}
