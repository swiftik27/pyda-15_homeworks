{
 "cells": [
  {
   "cell_type": "markdown",
   "metadata": {},
   "source": [
    "# Homework 19 Correlation and regression"
   ]
  },
  {
   "cell_type": "markdown",
   "metadata": {},
   "source": [
    "## 1 Задача\n",
    "Ответить на вопрос есть ли связь между жёсткостью воды и средней годовой смертностью?\n",
    "\n",
    "Построить точечный график\n",
    "Рассчитать коэффициенты корреляции Пирсона и Спирмена\n",
    "Построить модель линейной регрессии\n",
    "Рассчитать коэффициент детерминации\n",
    "Вывести график остатков"
   ]
  },
  {
   "cell_type": "code",
   "execution_count": null,
   "metadata": {},
   "outputs": [],
   "source": [
    "import pandas as pd\n",
    "import matplotlib.pyplot as plt\n",
    "from sklearn.linear_model import LinearRegression\n",
    "from sklearn.model_selection import train_test_split"
   ]
  },
  {
   "cell_type": "code",
   "execution_count": null,
   "metadata": {
    "scrolled": true
   },
   "outputs": [],
   "source": [
    "water = pd.read_csv('water.csv')\n",
    "water.head()"
   ]
  },
  {
   "cell_type": "code",
   "execution_count": null,
   "metadata": {
    "scrolled": false
   },
   "outputs": [],
   "source": [
    "# Строим график\n",
    "# Уже можно сделать вывод, что связь есть, похожа на обратную линейную зависимость\n",
    "\n",
    "water.plot(kind='scatter', x='hardness', y='mortality')"
   ]
  },
  {
   "cell_type": "code",
   "execution_count": null,
   "metadata": {
    "scrolled": false
   },
   "outputs": [],
   "source": [
    "# Коэффициенты корреляции\n",
    "print('Kendall\\n', water[['hardness', 'mortality']].corr(method='kendall'), '\\n\\n')\n",
    "print('Spearman\\n', water[['hardness', 'mortality']].corr(method='spearman'))"
   ]
  },
  {
   "cell_type": "code",
   "execution_count": null,
   "metadata": {},
   "outputs": [],
   "source": [
    "# Делим выборку на обучающую и тестовую, строим модель и обучаем ее\n",
    "X = water[['hardness']]\n",
    "y = water['mortality']\n",
    "\n",
    "X_train, X_test, y_train, y_test = train_test_split(X, y, test_size=0.25, random_state=None)\n",
    "\n",
    "model = LinearRegression()\n",
    "model.fit(X_train, y_train)\n",
    "\n",
    "print(model.coef_, model.intercept_, sep='\\n')"
   ]
  },
  {
   "cell_type": "code",
   "execution_count": null,
   "metadata": {
    "scrolled": true
   },
   "outputs": [],
   "source": [
    "# Применяем модель к тестовой выборке\n",
    "y_pred = model.predict(X_test)\n",
    "y_pred"
   ]
  },
  {
   "cell_type": "code",
   "execution_count": null,
   "metadata": {},
   "outputs": [],
   "source": [
    "# Посмотрим на коэффициенты детерминации\n",
    "print('test', model.score(X_test, y_test))\n",
    "print('train', model.score(X_train, y_train))"
   ]
  },
  {
   "cell_type": "code",
   "execution_count": null,
   "metadata": {},
   "outputs": [],
   "source": [
    "# Отобразим тестовую и обучающую выборки, а также линию регрессии \n",
    "plt.scatter(X_train, y_train, c='y')\n",
    "plt.scatter(X_test, y_test)\n",
    "plt.plot(X_test, y_pred, c='r')"
   ]
  },
  {
   "cell_type": "code",
   "execution_count": null,
   "metadata": {},
   "outputs": [],
   "source": [
    "# Оценим распределение остатков; создадим датафрейм из исходных данных и добавим столбцы с предсказанными значениями и\n",
    "# остатком\n",
    "\n",
    "prediction = model.predict(X)\n",
    "\n",
    "rests = pd.concat([X,y,pd.Series(prediction).rename('predict')], axis=1)\n",
    "rests['rest'] = rests.mortality - rests.predict\n",
    "rests"
   ]
  },
  {
   "cell_type": "code",
   "execution_count": null,
   "metadata": {
    "scrolled": true
   },
   "outputs": [],
   "source": [
    "# Scatter остатков; выглядит довольно хаотично => регрессия удалась :)\n",
    "rests.plot(kind='scatter', x='hardness', y='rest')"
   ]
  },
  {
   "cell_type": "code",
   "execution_count": null,
   "metadata": {},
   "outputs": [],
   "source": [
    "# Взглянем на распределение остатков; в целом, походит на нормальное, отсутствие ярко выраженного пика можно оправдать\n",
    "# неидеальностью исходных данных\n",
    "\n",
    "rests.rest.plot.hist()"
   ]
  },
  {
   "cell_type": "code",
   "execution_count": null,
   "metadata": {},
   "outputs": [],
   "source": []
  },
  {
   "cell_type": "markdown",
   "metadata": {},
   "source": [
    "\n",
    "## 2 Задание\n",
    "Сохраняется ли аналогичная зависимость для северных и южных городов по отдельности?\n",
    "\n",
    "Разделить данные на 2 группы\n",
    "Повторить аналогичные шаги из пункта 1 для каждой группы по отдельности"
   ]
  },
  {
   "cell_type": "code",
   "execution_count": null,
   "metadata": {},
   "outputs": [],
   "source": [
    "water\n",
    "north = water.loc[water.location == 'North']\n",
    "south = water.loc[water.location == 'South']\n",
    "\n",
    "south.location.size + north.location.size # 61 OK"
   ]
  },
  {
   "cell_type": "code",
   "execution_count": null,
   "metadata": {
    "scrolled": true
   },
   "outputs": [],
   "source": [
    "# По точечным графикам можно заметить, что обратная связь смертности от жесткости сохраняется для обоих регионов,\n",
    "# однако для северного региона она выражена не столь явно, сколь для южного\n",
    "north.plot(kind='scatter', x='hardness', y='mortality')\n",
    "south.plot(kind='scatter', x='hardness', y='mortality')"
   ]
  },
  {
   "cell_type": "code",
   "execution_count": null,
   "metadata": {
    "scrolled": true
   },
   "outputs": [],
   "source": [
    "# Коэффициенты корреляции подверждают сделанные выше наблюдения\n",
    "print('NORTH')\n",
    "print('Kendall\\n', north[['hardness', 'mortality']].corr(method='kendall'), '\\n')\n",
    "print('Spearman\\n', north[['hardness', 'mortality']].corr(method='spearman'))\n",
    "\n",
    "print('\\n\\n\\nSOUTH')\n",
    "print('Kendall\\n', south[['hardness', 'mortality']].corr(method='kendall'), '\\n')\n",
    "print('Spearman\\n', south[['hardness', 'mortality']].corr(method='spearman'))"
   ]
  },
  {
   "cell_type": "code",
   "execution_count": null,
   "metadata": {},
   "outputs": [],
   "source": [
    "# Делим выборки на обучающую и тестовую, строим модели и обучаем их\n",
    "Xn = north[['hardness']]\n",
    "yn = north['mortality']\n",
    "\n",
    "Xs = south[['hardness']]\n",
    "ys = south['mortality']\n",
    "\n",
    "Xn_train, Xn_test, yn_train, yn_test = train_test_split(Xn, yn, test_size=0.25, random_state=42)\n",
    "Xs_train, Xs_test, ys_train, ys_test = train_test_split(Xs, ys, test_size=0.25, random_state=42)\n",
    "\n",
    "model_n = LinearRegression()\n",
    "model_n.fit(Xn_train, yn_train)\n",
    "\n",
    "model_s = LinearRegression()\n",
    "model_s.fit(Xs_train, ys_train)\n",
    "\n",
    "print('North', model_n.coef_, model_n.intercept_)\n",
    "print('South', model_s.coef_, model_s.intercept_)\n",
    "\n",
    "# Видно, что коэффициент линейной зависимости для юга превосходит таковой для севера по абсолютной величине\n",
    "# При этом константы практически одинаковые, что, вероятно, говорит об одинаковом уровне цен на севере и юге"
   ]
  },
  {
   "cell_type": "code",
   "execution_count": null,
   "metadata": {
    "scrolled": true
   },
   "outputs": [],
   "source": [
    "# Применяем модели к тестовым выборкам\n",
    "yn_pred = model_n.predict(Xn_test)\n",
    "ys_pred = model_s.predict(Xs_test)\n",
    "\n",
    "# Коэффициенты детерминации\n",
    "print('North')\n",
    "print('test', model_n.score(Xn_test, yn_test))\n",
    "print('train', model_n.score(Xn_train, yn_train))\n",
    "print('South')\n",
    "print('test', model_s.score(Xs_test, ys_test))\n",
    "print('train', model_s.score(Xs_train, ys_train))\n",
    "\n",
    "# Отобразим тестовую и обучающую выборки, а также линию регрессии \n",
    "plt.scatter(Xn_train, yn_train, c='y')\n",
    "plt.scatter(Xn_test, yn_test)\n",
    "plt.plot(Xn_test, yn_pred, c='r')\n",
    "plt.show()\n",
    "\n",
    "plt.scatter(Xs_train, ys_train, c='y')\n",
    "plt.scatter(Xs_test, ys_test)\n",
    "plt.plot(Xs_test, ys_pred, c='r')\n",
    "plt.show()\n",
    "\n",
    "# Намеренно оставил параметр random_state=42 выше; при таком значении тестовая выборка для юга совершенно не согласуется\n",
    "# с регрессией, что можно видеть как на визуализации, так и по коэффициенту детерминации (>1 по модулю)\n",
    "# При этом, если поиграться со значением random_state, то на ряде тестовых выборок регрессия показывает \n",
    "# хороший результата, например, при random_state=0"
   ]
  }
 ],
 "metadata": {
  "kernelspec": {
   "display_name": "Python 3",
   "language": "python",
   "name": "python3"
  },
  "language_info": {
   "codemirror_mode": {
    "name": "ipython",
    "version": 3
   },
   "file_extension": ".py",
   "mimetype": "text/x-python",
   "name": "python",
   "nbconvert_exporter": "python",
   "pygments_lexer": "ipython3",
   "version": "3.8.3"
  }
 },
 "nbformat": 4,
 "nbformat_minor": 4
}
