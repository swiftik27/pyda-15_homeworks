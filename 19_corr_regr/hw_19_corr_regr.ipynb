{
 "cells": [
  {
   "cell_type": "markdown",
   "metadata": {},
   "source": [
    "# Homework 19 Correlation and regression"
   ]
  },
  {
   "cell_type": "markdown",
   "metadata": {},
   "source": [
    "## 1 Задача\n",
    "Ответить на вопрос есть ли связь между жёсткостью воды и средней годовой смертностью?\n",
    "\n",
    "Построить точечный график\n",
    "Рассчитать коэффициенты корреляции Пирсона и Спирмена\n",
    "Построить модель линейной регрессии\n",
    "Рассчитать коэффициент детерминации\n",
    "Вывести график остатков"
   ]
  },
  {
   "cell_type": "code",
   "execution_count": 1,
   "metadata": {},
   "outputs": [],
   "source": [
    "import pandas as pd\n",
    "import matplotlib.pyplot as plt\n",
    "from sklearn.linear_model import LinearRegression\n",
    "from sklearn.model_selection import train_test_split"
   ]
  },
  {
   "cell_type": "code",
   "execution_count": 2,
   "metadata": {
    "scrolled": true
   },
   "outputs": [
    {
     "data": {
      "text/html": [
       "<div>\n",
       "<style scoped>\n",
       "    .dataframe tbody tr th:only-of-type {\n",
       "        vertical-align: middle;\n",
       "    }\n",
       "\n",
       "    .dataframe tbody tr th {\n",
       "        vertical-align: top;\n",
       "    }\n",
       "\n",
       "    .dataframe thead th {\n",
       "        text-align: right;\n",
       "    }\n",
       "</style>\n",
       "<table border=\"1\" class=\"dataframe\">\n",
       "  <thead>\n",
       "    <tr style=\"text-align: right;\">\n",
       "      <th></th>\n",
       "      <th>Unnamed: 0</th>\n",
       "      <th>location</th>\n",
       "      <th>town</th>\n",
       "      <th>mortality</th>\n",
       "      <th>hardness</th>\n",
       "    </tr>\n",
       "  </thead>\n",
       "  <tbody>\n",
       "    <tr>\n",
       "      <th>0</th>\n",
       "      <td>1</td>\n",
       "      <td>South</td>\n",
       "      <td>Bath</td>\n",
       "      <td>1247</td>\n",
       "      <td>105</td>\n",
       "    </tr>\n",
       "    <tr>\n",
       "      <th>1</th>\n",
       "      <td>2</td>\n",
       "      <td>North</td>\n",
       "      <td>Birkenhead</td>\n",
       "      <td>1668</td>\n",
       "      <td>17</td>\n",
       "    </tr>\n",
       "    <tr>\n",
       "      <th>2</th>\n",
       "      <td>3</td>\n",
       "      <td>South</td>\n",
       "      <td>Birmingham</td>\n",
       "      <td>1466</td>\n",
       "      <td>5</td>\n",
       "    </tr>\n",
       "    <tr>\n",
       "      <th>3</th>\n",
       "      <td>4</td>\n",
       "      <td>North</td>\n",
       "      <td>Blackburn</td>\n",
       "      <td>1800</td>\n",
       "      <td>14</td>\n",
       "    </tr>\n",
       "    <tr>\n",
       "      <th>4</th>\n",
       "      <td>5</td>\n",
       "      <td>North</td>\n",
       "      <td>Blackpool</td>\n",
       "      <td>1609</td>\n",
       "      <td>18</td>\n",
       "    </tr>\n",
       "  </tbody>\n",
       "</table>\n",
       "</div>"
      ],
      "text/plain": [
       "   Unnamed: 0 location        town  mortality  hardness\n",
       "0           1    South        Bath       1247       105\n",
       "1           2    North  Birkenhead       1668        17\n",
       "2           3    South  Birmingham       1466         5\n",
       "3           4    North   Blackburn       1800        14\n",
       "4           5    North   Blackpool       1609        18"
      ]
     },
     "execution_count": 2,
     "metadata": {},
     "output_type": "execute_result"
    }
   ],
   "source": [
    "water = pd.read_csv('water.csv')\n",
    "water.head()"
   ]
  },
  {
   "cell_type": "code",
   "execution_count": 3,
   "metadata": {
    "scrolled": false
   },
   "outputs": [
    {
     "data": {
      "text/plain": [
       "<matplotlib.axes._subplots.AxesSubplot at 0xb3d5610>"
      ]
     },
     "execution_count": 3,
     "metadata": {},
     "output_type": "execute_result"
    },
    {
     "data": {
      "image/png": "[encoded data removed]",
      "text/plain": [
       "<Figure size 432x288 with 1 Axes>"
      ]
     },
     "metadata": {
      "needs_background": "light"
     },
     "output_type": "display_data"
    }
   ],
   "source": [
    "# Строим график\n",
    "# Уже можно сделать вывод, что связь есть, похожа на обратную линейную зависимость\n",
    "\n",
    "water.plot(kind='scatter', x='hardness', y='mortality')"
   ]
  },
  {
   "cell_type": "code",
   "execution_count": 4,
   "metadata": {
    "scrolled": false
   },
   "outputs": [
    {
     "name": "stdout",
     "output_type": "stream",
     "text": [
      "Kendall\n",
      "            hardness  mortality\n",
      "hardness   1.000000  -0.453753\n",
      "mortality -0.453753   1.000000 \n",
      "\n",
      "\n",
      "Spearman\n",
      "            hardness  mortality\n",
      "hardness   1.000000  -0.631665\n",
      "mortality -0.631665   1.000000\n"
     ]
    }
   ],
   "source": [
    "# Коэффициенты корреляции\n",
    "print('Kendall\\n', water[['hardness', 'mortality']].corr(method='kendall'), '\\n\\n')\n",
    "print('Spearman\\n', water[['hardness', 'mortality']].corr(method='spearman'))"
   ]
  },
  {
   "cell_type": "code",
   "execution_count": 5,
   "metadata": {},
   "outputs": [
    {
     "name": "stdout",
     "output_type": "stream",
     "text": [
      "[-3.48394483]\n",
      "1697.9468341725342\n"
     ]
    }
   ],
   "source": [
    "# Делим выборку на обучающую и тестовую, строим модель и обучаем ее\n",
    "X = water[['hardness']]\n",
    "y = water['mortality']\n",
    "\n",
    "X_train, X_test, y_train, y_test = train_test_split(X, y, test_size=0.25, random_state=None)\n",
    "\n",
    "model = LinearRegression()\n",
    "model.fit(X_train, y_train)\n",
    "\n",
    "print(model.coef_, model.intercept_, sep='\\n')"
   ]
  },
  {
   "cell_type": "code",
   "execution_count": 6,
   "metadata": {
    "scrolled": true
   },
   "outputs": [
    {
     "data": {
      "text/plain": [
       "array([1513.29775814, 1426.19913737, 1346.06840626, 1272.90556482,\n",
       "       1666.5913307 , 1656.1394962 , 1603.88032374, 1624.78399273,\n",
       "       1450.58675119, 1272.90556482, 1426.19913737, 1649.17160654,\n",
       "       1645.68766171, 1680.52711002, 1607.36426857, 1652.65555137])"
      ]
     },
     "execution_count": 6,
     "metadata": {},
     "output_type": "execute_result"
    }
   ],
   "source": [
    "# Применяем модель к тестовой выборке\n",
    "y_pred = model.predict(X_test)\n",
    "y_pred"
   ]
  },
  {
   "cell_type": "code",
   "execution_count": 7,
   "metadata": {},
   "outputs": [
    {
     "name": "stdout",
     "output_type": "stream",
     "text": [
      "test 0.329569647926119\n",
      "train 0.43991822173874084\n"
     ]
    }
   ],
   "source": [
    "# Посмотрим на коэффициенты детерминации\n",
    "print('test', model.score(X_test, y_test))\n",
    "print('train', model.score(X_train, y_train))"
   ]
  },
  {
   "cell_type": "code",
   "execution_count": 8,
   "metadata": {},
   "outputs": [
    {
     "data": {
      "text/plain": [
       "[<matplotlib.lines.Line2D at 0xb670310>]"
      ]
     },
     "execution_count": 8,
     "metadata": {},
     "output_type": "execute_result"
    },
    {
     "data": {
      "image/png": "[encoded data removed]",
      "text/plain": [
       "<Figure size 432x288 with 1 Axes>"
      ]
     },
     "metadata": {
      "needs_background": "light"
     },
     "output_type": "display_data"
    }
   ],
   "source": [
    "# Отобразим тестовую и обучающую выборки, а также линию регрессии \n",
    "plt.scatter(X_train, y_train, c='y')\n",
    "plt.scatter(X_test, y_test)\n",
    "plt.plot(X_test, y_pred, c='r')"
   ]
  },
  {
   "cell_type": "code",
   "execution_count": null,
   "metadata": {},
   "outputs": [],
   "source": [
    "# Оценим распределение остатков; создадим датафрейм из исходных данных и добавим столбцы с предсказанными значениями и\n",
    "# остатком\n",
    "\n",
    "prediction = model.predict(X)\n",
    "\n",
    "rests = pd.concat([X,y,pd.Series(prediction).rename('predict')], axis=1)\n",
    "rests['rest'] = rests.mortality - rests.predict\n",
    "rests"
   ]
  },
  {
   "cell_type": "code",
   "execution_count": null,
   "metadata": {
    "scrolled": true
   },
   "outputs": [],
   "source": [
    "# Scatter остатков; выглядит довольно хаотично => регрессия удалась :)\n",
    "rests.plot(kind='scatter', x='hardness', y='rest')"
   ]
  },
  {
   "cell_type": "code",
   "execution_count": null,
   "metadata": {},
   "outputs": [],
   "source": [
    "# Взглянем на распределение остатков; в целом, походит на нормальное, отсутствие ярко выраженного пика можно оправдать\n",
    "# неидеальностью исходных данных\n",
    "\n",
    "rests.rest.plot.hist()"
   ]
  },
  {
   "cell_type": "code",
   "execution_count": null,
   "metadata": {},
   "outputs": [],
   "source": []
  },
  {
   "cell_type": "markdown",
   "metadata": {},
   "source": [
    "\n",
    "## 2 Задание\n",
    "Сохраняется ли аналогичная зависимость для северных и южных городов по отдельности?\n",
    "\n",
    "Разделить данные на 2 группы\n",
    "Повторить аналогичные шаги из пункта 1 для каждой группы по отдельности"
   ]
  },
  {
   "cell_type": "code",
   "execution_count": null,
   "metadata": {},
   "outputs": [],
   "source": [
    "water\n",
    "north = water.loc[water.location == 'North']\n",
    "south = water.loc[water.location == 'South']\n",
    "\n",
    "south.location.size + north.location.size # 61 OK"
   ]
  },
  {
   "cell_type": "code",
   "execution_count": null,
   "metadata": {
    "scrolled": true
   },
   "outputs": [],
   "source": [
    "# По точечным графикам можно заметить, что обратная связь смертности от жесткости сохраняется для обоих регионов,\n",
    "# однако для северного региона она выражена не столь явно, сколь для южного\n",
    "north.plot(kind='scatter', x='hardness', y='mortality')\n",
    "south.plot(kind='scatter', x='hardness', y='mortality')"
   ]
  },
  {
   "cell_type": "code",
   "execution_count": null,
   "metadata": {
    "scrolled": true
   },
   "outputs": [],
   "source": [
    "# Коэффициенты корреляции подверждают сделанные выше наблюдения\n",
    "print('NORTH')\n",
    "print('Kendall\\n', north[['hardness', 'mortality']].corr(method='kendall'), '\\n')\n",
    "print('Spearman\\n', north[['hardness', 'mortality']].corr(method='spearman'))\n",
    "\n",
    "print('\\n\\n\\nSOUTH')\n",
    "print('Kendall\\n', south[['hardness', 'mortality']].corr(method='kendall'), '\\n')\n",
    "print('Spearman\\n', south[['hardness', 'mortality']].corr(method='spearman'))"
   ]
  },
  {
   "cell_type": "code",
   "execution_count": null,
   "metadata": {},
   "outputs": [],
   "source": [
    "# Делим выборки на обучающую и тестовую, строим модели и обучаем их\n",
    "Xn = north[['hardness']]\n",
    "yn = north['mortality']\n",
    "\n",
    "Xs = south[['hardness']]\n",
    "ys = south['mortality']\n",
    "\n",
    "Xn_train, Xn_test, yn_train, yn_test = train_test_split(Xn, yn, test_size=0.25, random_state=42)\n",
    "Xs_train, Xs_test, ys_train, ys_test = train_test_split(Xs, ys, test_size=0.25, random_state=42)\n",
    "\n",
    "model_n = LinearRegression()\n",
    "model_n.fit(Xn_train, yn_train)\n",
    "\n",
    "model_s = LinearRegression()\n",
    "model_s.fit(Xs_train, ys_train)\n",
    "\n",
    "print('North', model_n.coef_, model_n.intercept_)\n",
    "print('South', model_s.coef_, model_s.intercept_)\n",
    "\n",
    "# Видно, что коэффициент линейной зависимости для юга превосходит таковой для севера по абсолютной величине\n",
    "# При этом константы практически одинаковые, что, вероятно, говорит об одинаковом уровне цен на севере и юге"
   ]
  },
  {
   "cell_type": "code",
   "execution_count": null,
   "metadata": {
    "scrolled": true
   },
   "outputs": [],
   "source": [
    "# Применяем модели к тестовым выборкам\n",
    "yn_pred = model_n.predict(Xn_test)\n",
    "ys_pred = model_s.predict(Xs_test)\n",
    "\n",
    "# Коэффициенты детерминации\n",
    "print('North')\n",
    "print('test', model_n.score(Xn_test, yn_test))\n",
    "print('train', model_n.score(Xn_train, yn_train))\n",
    "print('South')\n",
    "print('test', model_s.score(Xs_test, ys_test))\n",
    "print('train', model_s.score(Xs_train, ys_train))\n",
    "\n",
    "# Отобразим тестовую и обучающую выборки, а также линию регрессии \n",
    "plt.scatter(Xn_train, yn_train, c='y')\n",
    "plt.scatter(Xn_test, yn_test)\n",
    "plt.plot(Xn_test, yn_pred, c='r')\n",
    "plt.show()\n",
    "\n",
    "plt.scatter(Xs_train, ys_train, c='y')\n",
    "plt.scatter(Xs_test, ys_test)\n",
    "plt.plot(Xs_test, ys_pred, c='r')\n",
    "plt.show()\n",
    "\n",
    "# Намеренно оставил параметр random_state=42 выше; при таком значении тестовая выборка для юга совершенно не согласуется\n",
    "# с регрессией, что можно видеть как на визуализации, так и по коэффициенту детерминации (>1 по модулю)\n",
    "# При этом, если поиграться со значением random_state, то на ряде тестовых выборок регрессия показывает \n",
    "# хороший результата, например, при random_state=0"
   ]
  }
 ],
 "metadata": {
  "kernelspec": {
   "display_name": "Python 3",
   "language": "python",
   "name": "python3"
  },
  "language_info": {
   "codemirror_mode": {
    "name": "ipython",
    "version": 3
   },
   "file_extension": ".py",
   "mimetype": "text/x-python",
   "name": "python",
   "nbconvert_exporter": "python",
   "pygments_lexer": "ipython3",
   "version": "3.8.3"
  }
 },
 "nbformat": 4,
 "nbformat_minor": 4
}
