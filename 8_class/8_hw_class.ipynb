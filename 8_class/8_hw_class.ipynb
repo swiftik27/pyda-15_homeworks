{
 "cells": [
  {
   "cell_type": "markdown",
   "metadata": {},
   "source": [
    "# Homework 8 Class"
   ]
  },
  {
   "cell_type": "markdown",
   "metadata": {},
   "source": [
    "## Task 1\n",
    "Напишите функцию, которая возвращает название валюты (поле ‘Name’) с максимальным значением курса с помощью сервиса https://www.cbr-xml-daily.ru/daily_json.js"
   ]
  },
  {
   "cell_type": "code",
   "execution_count": null,
   "metadata": {},
   "outputs": [],
   "source": [
    "# importing a Rate class from the lesson (request module required)\n",
    "import rate\n",
    "\n",
    "class MaxCurrency(rate.Rate):\n",
    "    def __init__(self):\n",
    "        super().__init__(format_='full')\n",
    "        \n",
    "    def get_max_currency_id(self):\n",
    "        \"\"\"\n",
    "        Returns id (CharCode) of max value currency\n",
    "        \"\"\"\n",
    "        currency_dict = {}\n",
    "        currencies = self.exchange_rates()\n",
    "        for key in currencies:\n",
    "            currency_dict[key] = currencies[key]['Value']\n",
    "        return max(currency_dict, key=currency_dict.get)\n",
    "\n",
    "    \n",
    "mc = MaxCurrency()\n",
    "print(mc.get_max_currency_id())\n"
   ]
  },
  {
   "cell_type": "markdown",
   "metadata": {},
   "source": [
    "## Task 2\n",
    "Добавьте в класс Rate параметр diff (со значениями True или False), который в случае значения True в методах курсов валют (eur, usd итд) будет возвращать не курс валюты, а изменение по сравнению в прошлым значением. Считайте, self.diff будет принимать значение True только при возврате значения курса. При отображении всей информации о валюте он не используется."
   ]
  },
  {
   "cell_type": "code",
   "execution_count": 15,
   "metadata": {
    "scrolled": true
   },
   "outputs": [
    {
     "name": "stdout",
     "output_type": "stream",
     "text": [
      "77.3262\n",
      "91.3222\n",
      "14.1675\n"
     ]
    }
   ],
   "source": [
    "# importing a Rate class from the lesson (request module required)\n",
    "import rate\n",
    "\n",
    "# make another class to complete the task\n",
    "# add 'diff' attribute to class itself, then replace make_format method with new one which uses 'diff'\n",
    "class RateDiff(rate.Rate):\n",
    "    def __init__(self, format_='value', diff=True):\n",
    "        super().__init__(format_=format_)\n",
    "        self.diff = diff\n",
    "        \n",
    "    def make_format(self, currency):\n",
    "        \"\"\"\n",
    "        Возвращает информацию о валюте currency в двух вариантах:\n",
    "        - полная информация о валюте при self.format = 'full':\n",
    "        Rate('full').make_format('EUR')\n",
    "        {\n",
    "            'CharCode': 'EUR',\n",
    "            'ID': 'R01239',\n",
    "            'Name': 'Евро',\n",
    "            'Nominal': 1,\n",
    "            'NumCode': '978',\n",
    "            'Previous': 79.6765,\n",
    "            'Value': 79.4966\n",
    "        }\n",
    "        \n",
    "        Rate('value').make_format('EUR')\n",
    "        79.4966\n",
    "        \"\"\"\n",
    "        response = self.exchange_rates()\n",
    "        \n",
    "        if currency in response:\n",
    "            if self.format == 'full':\n",
    "                return response[currency]\n",
    "            \n",
    "            if self.format == 'value':\n",
    "                if self.diff == True:\n",
    "                    return (response[currency]['Value'] - response[currency]['Previous'])\n",
    "                elif self.diff == False:\n",
    "                    return response[currency]['Value']\n",
    "        \n",
    "        return 'Error'         \n",
    "        \n",
    "\n",
    "rd = RateDiff(format_='value', diff=False)\n",
    "#rd = RateDiff(format_='value')\n",
    "#rd = RateDiff()\n",
    "\n",
    "print(rd.usd())\n",
    "print(rd.eur())\n",
    "print(rd.brl())"
   ]
  },
  {
   "cell_type": "markdown",
   "metadata": {},
   "source": [
    "## Task 3\n",
    "Напишите класс Designer, который учитывает количество международных премий для дизайнеров (из презентации: “Повышение на 1 грейд за каждые 7 баллов. Получение международной премии – это +2 балла”). Считайте, что при выходе на работу сотрудник уже имеет две премии и их количество не меняется со стажем (конечно если хотите это можно вручную менять).\n",
    "\n",
    "Класс Designer пишется по аналогии с классом Developer из материалов занятия. Комментарий про его условия Вика написала выше: “Повышение на 1 грейд за каждые 7 баллов. Получение международной премии – это +2 балла”"
   ]
  },
  {
   "cell_type": "code",
   "execution_count": 51,
   "metadata": {},
   "outputs": [
    {
     "name": "stdout",
     "output_type": "stream",
     "text": [
      "Вика initial grade is 1 \n",
      "\n",
      "Вика seniority 4\n",
      "Вика 1\n",
      "Вика seniority 5\n",
      "Вика 1\n",
      "Вика seniority 6\n",
      "Вика 2\n",
      "Вика seniority 7\n",
      "Вика 2\n",
      "Вика seniority 8\n",
      "Вика 2\n",
      "Вика seniority 9\n",
      "Вика 2\n",
      "Вика seniority 10\n",
      "Вика 2\n",
      "Вика seniority 11\n",
      "Вика 2\n",
      "Вика seniority 12\n",
      "Вика 2\n",
      "Вика seniority 13\n",
      "Вика 3\n",
      "Вика seniority 14\n",
      "Вика 3\n",
      "Вика seniority 15\n",
      "Вика 3\n",
      "Вика seniority 16\n",
      "Вика 3\n",
      "Вика seniority 17\n",
      "Вика 3\n",
      "Вика seniority 18\n",
      "Вика 3\n",
      "Вика seniority 19\n",
      "Вика 3\n",
      "Вика seniority 20\n",
      "Вика 4\n",
      "Вика seniority 21\n",
      "Вика 4\n",
      "Вика seniority 22\n",
      "Вика 4\n",
      "Вика seniority 23\n",
      "Вика 4\n"
     ]
    }
   ],
   "source": [
    "class Employee:\n",
    "    def __init__(self, name, seniority):\n",
    "        self.name = name\n",
    "        self.seniority = seniority\n",
    "        \n",
    "        self.grade = 1\n",
    "    \n",
    "    def grade_up(self):\n",
    "        \"\"\"Повышает уровень сотрудника\"\"\"\n",
    "        self.grade += 1\n",
    "    \n",
    "    def publish_grade(self):\n",
    "        \"\"\"Публикация результатов аккредитации сотрудников\"\"\"\n",
    "        print(self.name, self.grade)\n",
    "    \n",
    "    def check_if_it_is_time_for_upgrade(self):\n",
    "        pass\n",
    "    \n",
    "\n",
    "class Designer(Employee):\n",
    "    def __init__(self, name, seniority, awards=2):\n",
    "        super().__init__(name, seniority)\n",
    "        self.seniority = seniority + awards*2\n",
    "        \n",
    "        # guess that initial grade could be greater than 1 (e.g. lots of awards or great seniority)\n",
    "        self.grade = 1 + self.seniority//7\n",
    "        \n",
    "    def check_if_it_is_time_for_upgrade(self):\n",
    "        # increase seniority with every accreditation\n",
    "        self.seniority += 1\n",
    "        \n",
    "        # if seniority multiple of 7, then next grade comes\n",
    "        if self.seniority % 7 == 0:\n",
    "            self.grade_up()\n",
    "        \n",
    "        # check how it's going\n",
    "        return self.publish_grade()\n",
    "    \n",
    "#vika = Designer('Вика', 1, awards=3)\n",
    "vika = Designer('Вика', 0, awards=2)\n",
    "\n",
    "print(vika.name, 'initial grade is', vika.grade, '\\n')\n",
    "\n",
    "for i in range(20):\n",
    "    print(vika.name, 'seniority', vika.seniority)\n",
    "    vika.check_if_it_is_time_for_upgrade()"
   ]
  }
 ],
 "metadata": {
  "kernelspec": {
   "display_name": "Python 3",
   "language": "python",
   "name": "python3"
  },
  "language_info": {
   "codemirror_mode": {
    "name": "ipython",
    "version": 3
   },
   "file_extension": ".py",
   "mimetype": "text/x-python",
   "name": "python",
   "nbconvert_exporter": "python",
   "pygments_lexer": "ipython3",
   "version": "3.8.3"
  }
 },
 "nbformat": 4,
 "nbformat_minor": 4
}
