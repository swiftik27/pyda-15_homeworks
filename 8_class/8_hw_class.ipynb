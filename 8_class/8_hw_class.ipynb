{
 "cells": [
  {
   "cell_type": "markdown",
   "metadata": {},
   "source": [
    "# Homework 8 Class"
   ]
  },
  {
   "cell_type": "markdown",
   "metadata": {},
   "source": [
    "## Task 1\n",
    "Напишите функцию, которая возвращает название валюты (поле ‘Name’) с максимальным значением курса с помощью сервиса https://www.cbr-xml-daily.ru/daily_json.js"
   ]
  },
  {
   "cell_type": "code",
   "execution_count": 13,
   "metadata": {},
   "outputs": [
    {
     "name": "stdout",
     "output_type": "stream",
     "text": [
      "СДР (специальные права заимствования)\n",
      "dict_items([('AUD', {'ID': 'R01010', 'NumCode': '036', 'CharCode': 'AUD', 'Nominal': 1, 'Name': 'Австралийский доллар', 'Value': 55.9764, 'Previous': 55.9622}), ('AZN', {'ID': 'R01020A', 'NumCode': '944', 'CharCode': 'AZN', 'Nominal': 1, 'Name': 'Азербайджанский манат', 'Value': 45.5128, 'Previous': 45.3883}), ('GBP', {'ID': 'R01035', 'NumCode': '826', 'CharCode': 'GBP', 'Nominal': 1, 'Name': 'Фунт стерлингов Соединенного королевства', 'Value': 101.7535, 'Previous': 101.6682}), ('AMD', {'ID': 'R01060', 'NumCode': '051', 'CharCode': 'AMD', 'Nominal': 100, 'Name': 'Армянских драмов', 'Value': 15.6215, 'Previous': 15.5863}), ('BYN', {'ID': 'R01090B', 'NumCode': '933', 'CharCode': 'BYN', 'Nominal': 1, 'Name': 'Белорусский рубль', 'Value': 30.1208, 'Previous': 30.0549}), ('BGN', {'ID': 'R01100', 'NumCode': '975', 'CharCode': 'BGN', 'Nominal': 1, 'Name': 'Болгарский лев', 'Value': 46.7002, 'Previous': 46.4771}), ('BRL', {'ID': 'R01115', 'NumCode': '986', 'CharCode': 'BRL', 'Nominal': 1, 'Name': 'Бразильский реал', 'Value': 14.1675, 'Previous': 14.303}), ('HUF', {'ID': 'R01135', 'NumCode': '348', 'CharCode': 'HUF', 'Nominal': 100, 'Name': 'Венгерских форинтов', 'Value': 25.7282, 'Previous': 25.5559}), ('HKD', {'ID': 'R01200', 'NumCode': '344', 'CharCode': 'HKD', 'Nominal': 10, 'Name': 'Гонконгских долларов', 'Value': 99.7281, 'Previous': 99.4542}), ('DKK', {'ID': 'R01215', 'NumCode': '208', 'CharCode': 'DKK', 'Nominal': 1, 'Name': 'Датская крона', 'Value': 12.267, 'Previous': 12.2112}), ('USD', {'ID': 'R01235', 'NumCode': '840', 'CharCode': 'USD', 'Nominal': 1, 'Name': 'Доллар США', 'Value': 77.3262, 'Previous': 77.1148}), ('EUR', {'ID': 'R01239', 'NumCode': '978', 'CharCode': 'EUR', 'Nominal': 1, 'Name': 'Евро', 'Value': 91.3222, 'Previous': 90.8104}), ('INR', {'ID': 'R01270', 'NumCode': '356', 'CharCode': 'INR', 'Nominal': 10, 'Name': 'Индийских рупий', 'Value': 10.3708, 'Previous': 10.3316}), ('KZT', {'ID': 'R01335', 'NumCode': '398', 'CharCode': 'KZT', 'Nominal': 100, 'Name': 'Казахстанских тенге', 'Value': 17.9749, 'Previous': 17.9612}), ('CAD', {'ID': 'R01350', 'NumCode': '124', 'CharCode': 'CAD', 'Nominal': 1, 'Name': 'Канадский доллар', 'Value': 58.8345, 'Previous': 58.9022}), ('KGS', {'ID': 'R01370', 'NumCode': '417', 'CharCode': 'KGS', 'Nominal': 100, 'Name': 'Киргизских сомов', 'Value': 91.8636, 'Previous': 91.6466}), ('CNY', {'ID': 'R01375', 'NumCode': '156', 'CharCode': 'CNY', 'Nominal': 1, 'Name': 'Китайский юань', 'Value': 11.6893, 'Previous': 11.6307}), ('MDL', {'ID': 'R01500', 'NumCode': '498', 'CharCode': 'MDL', 'Nominal': 10, 'Name': 'Молдавских леев', 'Value': 45.1672, 'Previous': 45.0964}), ('NOK', {'ID': 'R01535', 'NumCode': '578', 'CharCode': 'NOK', 'Nominal': 10, 'Name': 'Норвежских крон', 'Value': 84.3574, 'Previous': 84.7788}), ('PLN', {'ID': 'R01565', 'NumCode': '985', 'CharCode': 'PLN', 'Nominal': 1, 'Name': 'Польский злотый', 'Value': 20.3063, 'Previous': 20.2374}), ('RON', {'ID': 'R01585F', 'NumCode': '946', 'CharCode': 'RON', 'Nominal': 1, 'Name': 'Румынский лей', 'Value': 18.7617, 'Previous': 18.6651}), ('XDR', {'ID': 'R01589', 'NumCode': '960', 'CharCode': 'XDR', 'Nominal': 1, 'Name': 'СДР (специальные права заимствования)', 'Value': 109.7328, 'Previous': 109.3573}), ('SGD', {'ID': 'R01625', 'NumCode': '702', 'CharCode': 'SGD', 'Nominal': 1, 'Name': 'Сингапурский доллар', 'Value': 57.3211, 'Previous': 57.0967}), ('TJS', {'ID': 'R01670', 'NumCode': '972', 'CharCode': 'TJS', 'Nominal': 10, 'Name': 'Таджикских сомони', 'Value': 68.2641, 'Previous': 68.0775}), ('TRY', {'ID': 'R01700J', 'NumCode': '949', 'CharCode': 'TRY', 'Nominal': 1, 'Name': 'Турецкая лира', 'Value': 10.0786, 'Previous': 98.3093}), ('TMT', {'ID': 'R01710A', 'NumCode': '934', 'CharCode': 'TMT', 'Nominal': 1, 'Name': 'Новый туркменский манат', 'Value': 22.1248, 'Previous': 22.0643}), ('UZS', {'ID': 'R01717', 'NumCode': '860', 'CharCode': 'UZS', 'Nominal': 10000, 'Name': 'Узбекских сумов', 'Value': 74.632, 'Previous': 74.2997}), ('UAH', {'ID': 'R01720', 'NumCode': '980', 'CharCode': 'UAH', 'Nominal': 10, 'Name': 'Украинских гривен', 'Value': 27.5011, 'Previous': 27.3498}), ('CZK', {'ID': 'R01760', 'NumCode': '203', 'CharCode': 'CZK', 'Nominal': 10, 'Name': 'Чешских крон', 'Value': 34.433, 'Previous': 34.3144}), ('SEK', {'ID': 'R01770', 'NumCode': '752', 'CharCode': 'SEK', 'Nominal': 10, 'Name': 'Шведских крон', 'Value': 89.4255, 'Previous': 89.2316}), ('CHF', {'ID': 'R01775', 'NumCode': '756', 'CharCode': 'CHF', 'Nominal': 1, 'Name': 'Швейцарский франк', 'Value': 84.5003, 'Previous': 84.2601}), ('ZAR', {'ID': 'R01810', 'NumCode': '710', 'CharCode': 'ZAR', 'Nominal': 10, 'Name': 'Южноафриканских рэндов', 'Value': 49.4989, 'Previous': 49.2114}), ('KRW', {'ID': 'R01815', 'NumCode': '410', 'CharCode': 'KRW', 'Nominal': 1000, 'Name': 'Вон Республики Корея', 'Value': 69.4742, 'Previous': 69.187}), ('JPY', {'ID': 'R01820', 'NumCode': '392', 'CharCode': 'JPY', 'Nominal': 100, 'Name': 'Японских иен', 'Value': 73.5774, 'Previous': 73.2195})])\n"
     ]
    }
   ],
   "source": [
    "# importing a Rate class from the lesson (request module required)\n",
    "import rate\n",
    "\n",
    "class MaxCurrency(rate.Rate):\n",
    "    def __init__(self):\n",
    "        super().__init__(format_='full')\n",
    "        \n",
    "    def get_max_currency_id(self):\n",
    "        \"\"\"\n",
    "        Returns id (CharCode) of max value currency\n",
    "        \"\"\"\n",
    "        currency_dict = {}\n",
    "        currencies = self.exchange_rates()\n",
    "        #for key in currencies:\n",
    "        #    currency_dict[key] = currencies[key]['Value'] / currencies[key]['Nominal']\n",
    "        #return max(currency_dict, key=currency_dict.get)\n",
    "        \n",
    "        return max(currencies.items(), key=lambda x: x[1]['Value'] / x[1]['Nominal'])[1]['Name']\n",
    "\n",
    "    \n",
    "mc = MaxCurrency()\n",
    "print(mc.get_max_currency_id())\n",
    "\n",
    "#print(mc.exchange_rates().items())\n"
   ]
  },
  {
   "cell_type": "markdown",
   "metadata": {},
   "source": [
    "## Task 2\n",
    "Добавьте в класс Rate параметр diff (со значениями True или False), который в случае значения True в методах курсов валют (eur, usd итд) будет возвращать не курс валюты, а изменение по сравнению в прошлым значением. Считайте, self.diff будет принимать значение True только при возврате значения курса. При отображении всей информации о валюте он не используется."
   ]
  },
  {
   "cell_type": "code",
   "execution_count": 15,
   "metadata": {
    "scrolled": true
   },
   "outputs": [
    {
     "name": "stdout",
     "output_type": "stream",
     "text": [
      "77.3262\n",
      "91.3222\n",
      "14.1675\n"
     ]
    }
   ],
   "source": [
    "# importing a Rate class from the lesson (request module required)\n",
    "import rate\n",
    "\n",
    "# make another class to complete the task\n",
    "# add 'diff' attribute to class itself, then replace make_format method with new one which uses 'diff'\n",
    "class RateDiff(rate.Rate):\n",
    "    def __init__(self, format_='value', diff=True):\n",
    "        super().__init__(format_=format_)\n",
    "        self.diff = diff\n",
    "        \n",
    "    def make_format(self, currency):\n",
    "        \"\"\"\n",
    "        Возвращает информацию о валюте currency в двух вариантах:\n",
    "        - полная информация о валюте при self.format = 'full':\n",
    "        Rate('full').make_format('EUR')\n",
    "        {\n",
    "            'CharCode': 'EUR',\n",
    "            'ID': 'R01239',\n",
    "            'Name': 'Евро',\n",
    "            'Nominal': 1,\n",
    "            'NumCode': '978',\n",
    "            'Previous': 79.6765,\n",
    "            'Value': 79.4966\n",
    "        }\n",
    "        \n",
    "        Rate('value').make_format('EUR')\n",
    "        79.4966\n",
    "        \"\"\"\n",
    "        response = self.exchange_rates()\n",
    "        \n",
    "        if currency in response:\n",
    "            if self.format == 'full':\n",
    "                return response[currency]\n",
    "            \n",
    "            if self.format == 'value':\n",
    "                if self.diff == True:\n",
    "                    return (response[currency]['Value'] - response[currency]['Previous'])\n",
    "                elif self.diff == False:\n",
    "                    return response[currency]['Value']\n",
    "        \n",
    "        return 'Error'         \n",
    "        \n",
    "\n",
    "rd = RateDiff(format_='value', diff=False)\n",
    "#rd = RateDiff(format_='value')\n",
    "#rd = RateDiff()\n",
    "\n",
    "print(rd.usd())\n",
    "print(rd.eur())\n",
    "print(rd.brl())"
   ]
  },
  {
   "cell_type": "markdown",
   "metadata": {},
   "source": [
    "## Task 3\n",
    "Напишите класс Designer, который учитывает количество международных премий для дизайнеров (из презентации: “Повышение на 1 грейд за каждые 7 баллов. Получение международной премии – это +2 балла”). Считайте, что при выходе на работу сотрудник уже имеет две премии и их количество не меняется со стажем (конечно если хотите это можно вручную менять).\n",
    "\n",
    "Класс Designer пишется по аналогии с классом Developer из материалов занятия. Комментарий про его условия Вика написала выше: “Повышение на 1 грейд за каждые 7 баллов. Получение международной премии – это +2 балла”"
   ]
  },
  {
   "cell_type": "code",
   "execution_count": 14,
   "metadata": {},
   "outputs": [
    {
     "name": "stdout",
     "output_type": "stream",
     "text": [
      "Вика initial grade is 2 \n",
      "\n",
      "Вика seniority 7\n",
      "Вика 2\n",
      "Вика seniority 8\n",
      "Вика 2\n",
      "Вика seniority 9\n",
      "Вика 2\n",
      "Вика seniority 10\n",
      "Вика 2\n",
      "Вика seniority 11\n",
      "Вика 2\n",
      "Вика seniority 12\n",
      "Вика 2\n",
      "Вика seniority 13\n",
      "Вика 3\n",
      "Вика seniority 14\n",
      "Вика 3\n",
      "Вика seniority 15\n",
      "Вика 3\n",
      "Вика seniority 16\n",
      "Вика 3\n",
      "Вика seniority 17\n",
      "Вика 3\n",
      "Вика seniority 18\n",
      "Вика 3\n",
      "Вика seniority 19\n",
      "Вика 3\n",
      "Вика seniority 20\n",
      "Вика 4\n",
      "Вика seniority 21\n",
      "Вика 4\n",
      "Вика seniority 22\n",
      "Вика 4\n",
      "Вика seniority 23\n",
      "Вика 4\n",
      "Вика seniority 24\n",
      "Вика 4\n",
      "Вика seniority 25\n",
      "Вика 4\n",
      "Вика seniority 26\n",
      "Вика 4\n"
     ]
    }
   ],
   "source": [
    "class Employee:\n",
    "    def __init__(self, name, seniority):\n",
    "        self.name = name\n",
    "        self.seniority = seniority\n",
    "        \n",
    "        self.grade = 1\n",
    "    \n",
    "    def grade_up(self):\n",
    "        \"\"\"Повышает уровень сотрудника\"\"\"\n",
    "        self.grade += 1\n",
    "    \n",
    "    def publish_grade(self):\n",
    "        \"\"\"Публикация результатов аккредитации сотрудников\"\"\"\n",
    "        print(self.name, self.grade)\n",
    "    \n",
    "    def check_if_it_is_time_for_upgrade(self):\n",
    "        pass\n",
    "    \n",
    "\n",
    "class Designer(Employee):\n",
    "    def __init__(self, name, seniority, awards=2):\n",
    "        super().__init__(name, seniority)\n",
    "        self.seniority = seniority + awards*2\n",
    "        \n",
    "        # guess that initial grade could be greater than 1 (e.g. lots of awards or great seniority)\n",
    "        self.grade = 1 + self.seniority//7\n",
    "        \n",
    "    def check_if_it_is_time_for_upgrade(self):\n",
    "        # increase seniority with every accreditation\n",
    "        self.seniority += 1\n",
    "        \n",
    "        # if seniority multiple of 7, then next grade comes\n",
    "        if self.seniority % 7 == 0:\n",
    "            self.grade_up()\n",
    "        \n",
    "        # check how it's going\n",
    "        return self.publish_grade()\n",
    "    \n",
    "vika = Designer('Вика', 1, awards=3)\n",
    "#vika = Designer('Вика', 0, awards=2)\n",
    "\n",
    "print(vika.name, 'initial grade is', vika.grade, '\\n')\n",
    "\n",
    "for i in range(20):\n",
    "    print(vika.name, 'seniority', vika.seniority)\n",
    "    vika.check_if_it_is_time_for_upgrade()"
   ]
  }
 ],
 "metadata": {
  "kernelspec": {
   "display_name": "Python 3",
   "language": "python",
   "name": "python3"
  },
  "language_info": {
   "codemirror_mode": {
    "name": "ipython",
    "version": 3
   },
   "file_extension": ".py",
   "mimetype": "text/x-python",
   "name": "python",
   "nbconvert_exporter": "python",
   "pygments_lexer": "ipython3",
   "version": "3.8.3"
  }
 },
 "nbformat": 4,
 "nbformat_minor": 4
}
