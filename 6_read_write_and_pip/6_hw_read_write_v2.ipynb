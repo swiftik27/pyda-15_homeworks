{
 "cells": [
  {
   "cell_type": "markdown",
   "metadata": {},
   "source": [
    "# Homework 6 Read-write and pip"
   ]
  },
  {
   "cell_type": "markdown",
   "metadata": {},
   "source": [
    "## Task1\n",
    "Переведите содержимое файла purchase_log.txt в словарь purchases вида:\n",
    "{‘1840e0b9d4’: ‘Продукты’, …}"
   ]
  },
  {
   "cell_type": "code",
   "execution_count": 16,
   "metadata": {
    "scrolled": true
   },
   "outputs": [
    {
     "name": "stdout",
     "output_type": "stream",
     "text": [
      "99517\n",
      "99998\n"
     ]
    }
   ],
   "source": [
    "import json\n",
    "\n",
    "result = {}\n",
    "\n",
    "with open('purchase_log.txt', encoding='utf-8') as f:\n",
    "    next(f)\n",
    "    for i, row in enumerate(f):        \n",
    "        data = json.loads(row)\n",
    "        # cause some user_ids are duplicates, make category as a list\n",
    "        if not data['user_id'] in result:\n",
    "            result[data['user_id']] = [data['category']]\n",
    "        else:\n",
    "            result[data['user_id']].append(data['category'])\n",
    "            \n",
    "        #if i == 5: print(result)\n",
    "    \n",
    "f.close()\n",
    "\n",
    "print(len(result))\n",
    "print(i)"
   ]
  },
  {
   "cell_type": "markdown",
   "metadata": {},
   "source": [
    "## Task 2\n",
    "Для каждого user_id в файле visit_log.csv определите третий столбец с категорией покупки (если покупка была, сам файл visit_log.csv изменять не надо). Запишите в файл funnel.csv визиты из файла visit_log.csv, в которых были покупки с указанием категории.\n",
    "Учтите условия на данные:\n",
    "содержимое purchase_log.txt помещается в оперативную память компьютера\n",
    "содержимое visit_log.csv - нет; используйте только построчную обработку этого файла"
   ]
  },
  {
   "cell_type": "code",
   "execution_count": 17,
   "metadata": {},
   "outputs": [
    {
     "name": "stdout",
     "output_type": "stream",
     "text": [
      "99517\n",
      "85984\n"
     ]
    }
   ],
   "source": [
    "print(len(result))\n",
    "\n",
    "with open('visit_log.csv', encoding='utf-8') as v:\n",
    "    next(v)\n",
    "    with open('funnel.csv', 'w', encoding='utf-8') as f:\n",
    "        f.write('user_id,source,category\\n')\n",
    "\n",
    "        for i, visit in enumerate(v):\n",
    "            user_id, source = visit.strip().split(',')\n",
    "            if user_id in result.keys():\n",
    "                # since the dict value is a list, start a loop here\n",
    "                for val in result[user_id]:\n",
    "                    f.write(user_id + ',' + source + ',' + val + '\\n')\n",
    "                # cause there are duplicate user_ids in visit_log, \n",
    "                # remove a line with key [user_id] from {result} dictionary to avoid duplicates in funnel.csv\n",
    "                del result[user_id]  \n",
    "\n",
    "        #if i > 3000: break\n",
    "\n",
    "v.close()\n",
    "f.close()\n",
    "print(len(result))"
   ]
  }
 ],
 "metadata": {
  "kernelspec": {
   "display_name": "Python 3",
   "language": "python",
   "name": "python3"
  },
  "language_info": {
   "codemirror_mode": {
    "name": "ipython",
    "version": 3
   },
   "file_extension": ".py",
   "mimetype": "text/x-python",
   "name": "python",
   "nbconvert_exporter": "python",
   "pygments_lexer": "ipython3",
   "version": "3.8.3"
  }
 },
 "nbformat": 4,
 "nbformat_minor": 4
}
