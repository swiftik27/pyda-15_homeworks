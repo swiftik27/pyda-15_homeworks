{
 "cells": [
  {
   "cell_type": "markdown",
   "metadata": {},
   "source": [
    "# Homework 6 Read-write and pip"
   ]
  },
  {
   "cell_type": "markdown",
   "metadata": {},
   "source": [
    "## Task1\n",
    "Переведите содержимое файла purchase_log.txt в словарь purchases вида:\n",
    "{‘1840e0b9d4’: ‘Продукты’, …}"
   ]
  },
  {
   "cell_type": "code",
   "execution_count": 1,
   "metadata": {
    "scrolled": true
   },
   "outputs": [
    {
     "name": "stdout",
     "output_type": "stream",
     "text": [
      "{'1840e0b9d4': 'Продукты', '4e4f90fcfb': 'Электроника', 'afea8d72fc': 'Электроника', '373a6055fe': 'Бытовая техника', '9b2ab046f3': 'Электроника'}\n"
     ]
    }
   ],
   "source": [
    "import json\n",
    "\n",
    "result = {}\n",
    "\n",
    "with open('purchase_log.txt', encoding='utf-8') as f:\n",
    "    for i, row in enumerate(f):        \n",
    "        if i > 0:\n",
    "            data = json.loads(row)\n",
    "            result[data['user_id']] = data['category']\n",
    "            \n",
    "            if i == 5: print(result)\n",
    "    \n",
    "f.close()\n",
    "\n",
    "#print(result)"
   ]
  },
  {
   "cell_type": "markdown",
   "metadata": {},
   "source": [
    "## Task 2\n",
    "Для каждого user_id в файле visit_log.csv определите третий столбец с категорией покупки (если покупка была, сам файл visit_log.csv изменять не надо). Запишите в файл funnel.csv визиты из файла visit_log.csv, в которых были покупки с указанием категории.\n",
    "Учтите условия на данные:\n",
    "содержимое purchase_log.txt помещается в оперативную память компьютера\n",
    "содержимое visit_log.csv - нет; используйте только построчную обработку этого файла"
   ]
  },
  {
   "cell_type": "code",
   "execution_count": 2,
   "metadata": {},
   "outputs": [],
   "source": [
    "with open('visit_log.csv', encoding='utf-8') as v:\n",
    "    with open('funnel.csv', 'w', encoding='utf-8') as f:\n",
    "        f.write('user_id,source,category\\n')\n",
    "        \n",
    "        ###with open('purchase_log.txt', encoding='utf-8') as p:                    \n",
    "        ###    pool = p.readlines() # purchases pool\n",
    "        ###    p.close()\n",
    "\n",
    "        for i, visit in enumerate(v):\n",
    "            if i > 0:\n",
    "                user_id, source = visit.strip().split(',')\n",
    "                for key in result:\n",
    "                ###for row in pool:\n",
    "                ###   purchase = json.loads(row)\n",
    "                ###   if purchase['user_id'] == user_id:\n",
    "                    if key == user_id:\n",
    "                        f.write(user_id + ',' + source + ',' + result[key] + '\\n')\n",
    "                        break # assuming that user_id is session_id which means unique; should be commented if not\n",
    "\n",
    "            if i > 1000: break\n",
    "\n",
    "v.close()\n",
    "f.close()"
   ]
  }
 ],
 "metadata": {
  "kernelspec": {
   "display_name": "Python 3",
   "language": "python",
   "name": "python3"
  },
  "language_info": {
   "codemirror_mode": {
    "name": "ipython",
    "version": 3
   },
   "file_extension": ".py",
   "mimetype": "text/x-python",
   "name": "python",
   "nbconvert_exporter": "python",
   "pygments_lexer": "ipython3",
   "version": "3.8.3"
  }
 },
 "nbformat": 4,
 "nbformat_minor": 4
}
