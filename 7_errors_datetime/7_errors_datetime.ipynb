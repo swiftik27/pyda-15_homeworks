{
 "cells": [
  {
   "cell_type": "markdown",
   "metadata": {},
   "source": [
    "# Homework 7 Errors and datetime¶"
   ]
  },
  {
   "cell_type": "markdown",
   "metadata": {},
   "source": [
    "## Task 1\n",
    "Печатные газеты использовали свой формат дат для каждого выпуска. Для каждой газеты из списка напишите формат указанной даты для перевода в объект datetime:\n",
    "The Moscow Times - Wednesday, October 2, 2002\n",
    "The Guardian - Friday, 11.10.13\n",
    "Daily News - Thursday, 18 August 1977"
   ]
  },
  {
   "cell_type": "code",
   "execution_count": null,
   "metadata": {
    "scrolled": true
   },
   "outputs": [],
   "source": [
    "from datetime import datetime as dt\n",
    "\n",
    "tmt = 'Wednesday, October 2, 2002'\n",
    "tg = 'Friday, 11.10.13'\n",
    "dn = 'Thursday, 18 August 1977'\n",
    "\n",
    "tmt_dt = dt.strptime(tmt, '%A, %B %d, %Y')\n",
    "tg_dt  = dt.strptime(tg, '%A, %d.%m.%y')\n",
    "dn_dt  = dt.strptime(dn, '%A, %d %B %Y')\n",
    "\n",
    "print(tmt_dt, type(tmt_dt))\n",
    "print(tg_dt, type(tg_dt))\n",
    "print(dn_dt, type(dn_dt))\n"
   ]
  },
  {
   "cell_type": "markdown",
   "metadata": {},
   "source": [
    "## Task 2\n",
    "Дан поток дат в формате YYYY-MM-DD, в которых встречаются некорректные значения:\n",
    "stream = [‘2018-04-02’, ‘2018-02-29’, ‘2018-19-02’]\n",
    "\n",
    "Напишите функцию, которая проверяет эти даты на корректность. Т. е. для каждой даты возвращает True (дата корректна) или False (некорректная дата)."
   ]
  },
  {
   "cell_type": "code",
   "execution_count": null,
   "metadata": {
    "scrolled": false
   },
   "outputs": [],
   "source": [
    "from datetime import datetime\n",
    "import traceback\n",
    "\n",
    "\n",
    "stream = [\n",
    "    '2018-04-02', '2018-02-29', '2018-19-02',\n",
    "    '20183-04-02', '20-05-2019', '2018-5-02',\n",
    "    '2018-04-26', '2019-02-29', '2020-02-29', \n",
    "     598, {'idx': 89}\n",
    "    ]\n",
    "\n",
    "\n",
    "def check_date(in_str):\n",
    "    \"\"\"\n",
    "    Check if input could be a date value and matches format 'YYYY-MM-DD'\n",
    "    Returns result description (text) and result (boolean), as well as a traceback for unhandled exceptions\n",
    "    \"\"\"\n",
    "    try:\n",
    "        dt = datetime.strptime(in_str, '%Y-%m-%d')\n",
    "        print(in_str, 'OK')\n",
    "        return True\n",
    "        \n",
    "    except ValueError:\n",
    "        print(in_str, 'is not a date or does not match format \\'YYYY-MM-DD\\'')\n",
    "        return False\n",
    "    \n",
    "    except:\n",
    "        print('Some unexpected exception')\n",
    "        print(traceback.print_exc())\n",
    "        return False\n",
    "\n",
    "    \n",
    "def main():\n",
    "    for data in stream:\n",
    "        check_date(data)\n",
    "        \n",
    "        \n",
    "main()"
   ]
  },
  {
   "cell_type": "markdown",
   "metadata": {},
   "source": [
    "## Task 3\n",
    "Напишите функцию date_range, которая возвращает список дат за период от start_date до end_date. Даты должны вводиться в формате YYYY-MM-DD. В случае неверного формата или при start_date > end_date должен возвращаться пустой список."
   ]
  },
  {
   "cell_type": "code",
   "execution_count": 6,
   "metadata": {
    "scrolled": true
   },
   "outputs": [
    {
     "name": "stdout",
     "output_type": "stream",
     "text": [
      "Please enter a start date (YYYY-MM-DD)2020-03-03\n",
      "Enter an end date (YYYY-MM-DD)2020-03-03\n",
      "[] <class 'list'>\n"
     ]
    }
   ],
   "source": [
    "from datetime import datetime\n",
    "from datetime import timedelta\n",
    "import traceback\n",
    "\n",
    "\n",
    "def date_range(beg,end):\n",
    "    \"\"\"\n",
    "    Takes two values as start and end dates and returns a list of dates (range from start to end) with 1-day pitch,\n",
    "    or an empty list if start date >= end date, or there is any exceptions\n",
    "    Print an exception traceback if occurs\n",
    "    \"\"\"\n",
    "    out_list = []\n",
    "    \n",
    "    try:\n",
    "        start_date = datetime.strptime(beg, '%Y-%m-%d')\n",
    "        end_date   = datetime.strptime(end, '%Y-%m-%d')\n",
    "        \n",
    "        if end_date > start_date:\n",
    "            while start_date <= end_date:\n",
    "                out_list.append(datetime.strftime(start_date, '%Y-%m-%d'))\n",
    "                start_date += timedelta(days=1)\n",
    "        \n",
    "    except:\n",
    "        print(traceback.print_exc())\n",
    "  \n",
    "    finally:\n",
    "        return out_list\n",
    "\n",
    "\n",
    "def main():\n",
    "    dt_start = input('Please enter a start date (YYYY-MM-DD)')\n",
    "    dt_end   = input('Enter an end date (YYYY-MM-DD)')\n",
    "    \n",
    "    #dt_start = '2020-03-04'\n",
    "    #dt_end   = '2020-03-15'\n",
    "    \n",
    "    result = date_range(dt_start,dt_end)\n",
    "    \n",
    "    print(result, type(result))\n",
    "\n",
    "main()"
   ]
  },
  {
   "cell_type": "markdown",
   "metadata": {},
   "source": [
    "## Task 4\n",
    "Ваш коллега прислал код функции:\n",
    "\n",
    "DEFAULT_USER_COUNT = 3\n",
    "\n",
    "def delete_and_return_last_user(region, default_list=[‘A100’, ‘A101’, ‘A102’]):\n",
    "\"\"“\n",
    "Удаляет из списка default_list последнего пользователя\n",
    "и возвращает ID нового последнего пользователя.\n",
    "”\"\"\n",
    "element_to_delete = default_list[-1]\n",
    "default_list.remove(element_to_delete)\n",
    "\n",
    "return default_list[DEFAULT_USER_COUNT-2]\n",
    "При однократном вызове этой функции все работает корректно:\n",
    "delete_and_return_last_user(1)\n",
    "‘A101’\n",
    "\n",
    "Однако, при повторном вызове получается ошибка IndexError: list index out of range.\n",
    "\n",
    "Задание:\n",
    "\n",
    "1. Что значит ошибка list index out of range?\n",
    "2. Почему при первом запуске функция работает корректно, а при втором - нет?"
   ]
  },
  {
   "cell_type": "markdown",
   "metadata": {},
   "source": [
    "Нагуглил, что \"The default values of the arguments are evaluated only once when the control reaches the function definition for the first time. After that, the same values(or mutable objects) are referenced in the subsequent function calls.\"\n",
    "\n",
    "Т.е. при каждом вызове функции, начиная со второго, вторым аргументом будет являться список default_list, над которым производились манипуляции при предыдущем вызове функции, и лишь при первом вызове функции default_list будет наполнен значениями по умолчанию.\n",
    "Таким образом, при втором вызове функции она не может вернуть элемент списка с индексом 'DEFAULT_USER_COUNT-2 = 1', поскольку список состоит из лишь одного элемента с индексом '0'. Об этом и сообщает интерпретатор посредством сообщения 'list index out of range'."
   ]
  }
 ],
 "metadata": {
  "kernelspec": {
   "display_name": "Python 3",
   "language": "python",
   "name": "python3"
  },
  "language_info": {
   "codemirror_mode": {
    "name": "ipython",
    "version": 3
   },
   "file_extension": ".py",
   "mimetype": "text/x-python",
   "name": "python",
   "nbconvert_exporter": "python",
   "pygments_lexer": "ipython3",
   "version": "3.8.3"
  }
 },
 "nbformat": 4,
 "nbformat_minor": 4
}
