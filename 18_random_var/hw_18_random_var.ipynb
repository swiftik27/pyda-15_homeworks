{
 "cells": [
  {
   "cell_type": "markdown",
   "metadata": {},
   "source": [
    "# Homework 18 Random var"
   ]
  },
  {
   "attachments": {},
   "cell_type": "markdown",
   "metadata": {},
   "source": [
    "Смоделировать игру против лотерейного автомата типа “777”. Игрок платит 1 руб., после чего выпадает случайное целое число, равномерно распределенное от 0 до 999. При некоторых значениях числа игрок получает выигрыш (см. справа)\n",
    "\n",
    "Выгодна ли игра игроку?\n",
    "\n",
    "Сколько в среднем приобретает\n",
    "или теряет игрок за одну игру?\n",
    "\n",
    "777: 200 руб.\n",
    "999: 100 руб.\n",
    "555: 50 руб.\n",
    "333: 15 руб.\n",
    "111: 10 руб.\n",
    "*77: 5 руб.\n",
    "**7: 3 руб.\n",
    "*00: 2 руб.\n",
    "**0: 1 руб.\n",
    "\n",
    "– любая цифра\n",
    "Дополнительное задание повышенной сложности. Теоретически рассчитать средний выигрыш (проигрыш) и сравнить с результатами моделирования"
   ]
  },
  {
   "cell_type": "code",
   "execution_count": null,
   "metadata": {},
   "outputs": [],
   "source": []
  },
  {
   "cell_type": "code",
   "execution_count": null,
   "metadata": {
    "scrolled": true
   },
   "outputs": [],
   "source": [
    "import numpy as np\n",
    "\n",
    "# Для моделирования игры создадим функцию, возвращающую выигрыш в зависимости от выпавшего числа\n",
    "# Затем в цикле просуммируем выигрыш и разделим на число попыток => сренее значение выигрыша\n",
    "def prize(dice):\n",
    "    prize = 0\n",
    "    if dice / 111 == 7:\n",
    "        prize = 200\n",
    "    elif dice / 111 == 9:\n",
    "        prize = 100\n",
    "    elif dice / 111 == 5:\n",
    "        prize = 50\n",
    "    elif dice / 111 == 3:\n",
    "        prize = 15\n",
    "    elif dice / 111 == 1:\n",
    "        prize = 10\n",
    "    elif (dice - 77) % 100 == 0:\n",
    "        prize = 5\n",
    "    elif (dice - 7) % 10 == 0:\n",
    "        prize = 3\n",
    "    elif dice % 100 == 0 and dice > 0:\n",
    "        prize = 2\n",
    "    elif dice % 10 == 0:\n",
    "        prize = 1\n",
    "    return prize\n",
    "\n",
    "\n",
    "trials = 1000000\n",
    "total = 0\n",
    "\n",
    "for i in range(trials):\n",
    "    dice = np.random.randint(0,1000)\n",
    "    total = total + prize(dice)\n",
    "    \n",
    "print('Средний выигрыш', total/trials)\n",
    "print(f'В среднем игрок приобретает {(total/trials-1):.2f}')"
   ]
  },
  {
   "cell_type": "code",
   "execution_count": null,
   "metadata": {},
   "outputs": [],
   "source": []
  },
  {
   "cell_type": "code",
   "execution_count": null,
   "metadata": {},
   "outputs": [],
   "source": [
    "# Для аналитического решения задачи создадим функцию, которая для возможного рейнджа значений (0-999) сформирует\n",
    "# словарь из пар значение случайной величины - соответствующая вероятность\n",
    "# Затем определим математическое ожидание по формуле для среднего значени дискретной СВ\n",
    "\n",
    "def calc_prob(dimension):\n",
    "    result = {}\n",
    "    # проходим по диапазону и формируем словарь\n",
    "    for i in range(dimension):\n",
    "        if i / 111 == 7:\n",
    "            prize = 200\n",
    "        elif i / 111 == 9:\n",
    "            prize = 100\n",
    "        elif i / 111 == 5:\n",
    "            prize = 50\n",
    "        elif i / 111 == 3:\n",
    "            prize = 15\n",
    "        elif i / 111 == 1:\n",
    "            prize = 10\n",
    "        elif (i - 77) % 100 == 0:\n",
    "            prize = 5\n",
    "        elif (i - 7) % 10 == 0:\n",
    "            prize = 3\n",
    "        elif i % 100 == 0 and i > 0:\n",
    "            prize = 2\n",
    "        elif i % 10 == 0:\n",
    "            prize = 1\n",
    "        else:\n",
    "            prize = 0\n",
    "        # добавляем ключ в словарь и инкрементируем соответствующее значение\n",
    "        result.setdefault(prize,0)\n",
    "        result[prize] += 1\n",
    "        \n",
    "    # превратим количество в вероятность\n",
    "    for key in result:\n",
    "        result[key] = result[key]/dimension\n",
    "    return result\n",
    "\n",
    "\n",
    "# Получаем словарь с возможными значениями СВ (ключи) и соответствующими вероятностями (значения)\n",
    "probability = calc_prob(1000)\n",
    "math_exp = 0\n",
    "for key in probability:\n",
    "    math_exp = math_exp + key * probability[key]\n",
    "\n",
    "math_exp"
   ]
  }
 ],
 "metadata": {
  "kernelspec": {
   "display_name": "Python 3",
   "language": "python",
   "name": "python3"
  },
  "language_info": {
   "codemirror_mode": {
    "name": "ipython",
    "version": 3
   },
   "file_extension": ".py",
   "mimetype": "text/x-python",
   "name": "python",
   "nbconvert_exporter": "python",
   "pygments_lexer": "ipython3",
   "version": "3.8.3"
  }
 },
 "nbformat": 4,
 "nbformat_minor": 4
}
