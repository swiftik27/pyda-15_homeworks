{
 "cells": [
  {
   "cell_type": "markdown",
   "metadata": {},
   "source": [
    "# Homework 9 Regular expressions"
   ]
  },
  {
   "cell_type": "markdown",
   "metadata": {},
   "source": [
    "## Task 1\n",
    "Напишите функцию, которая принимает на вход строку и проверяет является ли она валидным транспортным номером (1 буква, 3 цифры, 2 буквы, 2-3 цифры). Обратите внимание, что не все буквы кириллического алфавита используются в транспортных номерах.\n",
    "\n",
    "Если номер валиден, то функция должна возвращать отдельно номер и регион.\n",
    "\n",
    "Примеры работы программы:\n",
    "\n",
    "car_id = 'A222BC96'\n",
    "Результат: Номер A222BС валиден. Регион: 96\n",
    "\n",
    "car_id = 'АБ22ВВ193'\n",
    "Результат: Номер не валиден"
   ]
  },
  {
   "cell_type": "code",
   "execution_count": 27,
   "metadata": {},
   "outputs": [
    {
     "name": "stdout",
     "output_type": "stream",
     "text": [
      "Number A222BC is valid, 96 region\n"
     ]
    }
   ],
   "source": [
    "import re\n",
    "\n",
    "class CarNumber:\n",
    "    def __init__(self, number):\n",
    "        self.number = number.strip()\n",
    "        \n",
    "    def check_number_valid(self):\n",
    "        # pattern includes Cyrillic and Latin leters\n",
    "        res = re.findall(r'^([АВЕКМНОРСТУХABEKMHOPCTYX]\\d{3}[АВЕКМНОРСТУХABEKMHOPCTYX]{2})(\\d{2,3})$', self.number)\n",
    "        if res:\n",
    "            print('Number', res[0][0], 'is valid,', res[0][1], 'region')     \n",
    "        else:\n",
    "            print('Number is not valid')\n",
    "        \n",
    "        return\n",
    "            \n",
    "                        \n",
    "cn = CarNumber('A222BC96')\n",
    "#cn = CarNumber('АБ22ВВ193')\n",
    "#cn = CarNumber('А22ФЕ193')\n",
    "\n",
    "cn.check_number_valid()"
   ]
  },
  {
   "cell_type": "markdown",
   "metadata": {},
   "source": [
    "## Task 2\n",
    "Напишите функцию, которая будет удалять все последовательные повторы слов из заданной строки при помощи регулярных выражений.\n",
    "\n",
    "Пример работы программы:\n",
    "\n",
    "some_string = 'Напишите функцию функцию, которая будет будет будет будет удалять все все все все последовательные повторы слов из из из из заданной строки строки при помощи регулярных выражений.'\n",
    "\n",
    "Результат:\n",
    "Напишите функцию, которая будет удалять все последовательные повторы слов из заданной строки при помощи регулярных выражений."
   ]
  },
  {
   "cell_type": "code",
   "execution_count": 110,
   "metadata": {},
   "outputs": [
    {
     "name": "stdout",
     "output_type": "stream",
     "text": [
      "Напишите функцию, которая будет удалять все, даже самые необходимые, последовательные повторы слов из заданной строки при помощи регулярных выражений.\n"
     ]
    }
   ],
   "source": [
    "import re\n",
    "\n",
    "class RegExpTsk:\n",
    "    def __init__(self, string):\n",
    "        self.string = string.strip()\n",
    "        \n",
    "    def rm_dupl(self):\n",
    "        # if one did not care of punctuation marks, it would be just a line :)\n",
    "        # return (' ').join( list( dict.fromkeys( re.split(r'[\\.,!?]*\\s+', self.string) ) ) )\n",
    "        \n",
    "        # but we do care\n",
    "        pool = re.split(r'\\s+', self.string)\n",
    "        clear_pool = []\n",
    "        \n",
    "        for i, word in enumerate(pool):\n",
    "            if i == 0:\n",
    "                clear_pool.append(word)\n",
    "            else:\n",
    "                # if current [pool] element is different from previous one (without looking at punctuation marks),\n",
    "                # add this element to [clear_pool]\n",
    "                if not re.findall(r'\\w+', word)[0] == re.findall(r'\\w+', clear_pool[-1])[0]:\n",
    "                    clear_pool.append(word)\n",
    "                # else we are gonna replace the last [clear_pool] element with the new one only if \n",
    "                # the new one has a comma; so we are about to save original punctuation even in cases\n",
    "                # like this 'функцию функцию, функцию'\n",
    "                # though it does nor work correctly with more complex logic, but that is another story...\n",
    "                else:\n",
    "                    if re.search(r',', word):\n",
    "                        clear_pool[-1] = word\n",
    "                    \n",
    "        return (' ').join(clear_pool)\n",
    "    \n",
    "      \n",
    "string = '''Напишите функцию функцию, функцию которая будет будет будет будет удалять все все, все все даже самые\n",
    "            необходимые, последовательные повторы слов из из из из заданной строки строки при помощи регулярных \n",
    "            выражений.'''\n",
    "\n",
    "exmpl = RegExpTsk(string)\n",
    "\n",
    "print(exmpl.rm_dupl())"
   ]
  },
  {
   "cell_type": "markdown",
   "metadata": {},
   "source": [
    "## Task 3\n",
    "Напишите функцию, которая будет возвращать акроним по переданной в нее строке со словами.\n",
    "\n",
    "Примеры работы программы:\n",
    "\n",
    "some_words = 'Информационные технологии'\n",
    "Результат: ИТ\n",
    "\n",
    "some_words = 'Near Field Communication'\n",
    "Результат: NFC"
   ]
  },
  {
   "cell_type": "code",
   "execution_count": 111,
   "metadata": {},
   "outputs": [
    {
     "name": "stdout",
     "output_type": "stream",
     "text": [
      "AROBTTH\n"
     ]
    }
   ],
   "source": [
    "import re\n",
    "\n",
    "class RegExpTsk:\n",
    "    def __init__(self,string):\n",
    "        self.string = string.strip()\n",
    "        \n",
    "    def acronym(self):\n",
    "        #res = re.findall(r'([^\\s])[^\\s]*(?:\\s|$)+', self.string)        \n",
    "        #return ('').join(res).upper()\n",
    "        \n",
    "        return re.sub(r'([^\\s])[^\\s]*(?:\\s|$)+', r'\\1', self.string).upper()\n",
    "\n",
    "#string = Напишите функцию, которая будет удалять все, даже самые необходимые, последовательные повторы слов из заданной строки при помощи регулярных выражений.\n",
    "string = 'A Rush of Blood to the Head'\n",
    "#string = 'Near Field Communication'\n",
    "#string = 'Информационные технологии'\n",
    "\n",
    "exmpl = RegExpTsk(string)\n",
    "\n",
    "print(exmpl.acronym())"
   ]
  },
  {
   "cell_type": "markdown",
   "metadata": {},
   "source": [
    "## Task 4\n",
    "Напишите функцию, которая будет принимать на вход список email-адресов и выводить их распределение по доменным зонам.\n",
    "\n",
    "Пример работы программы:\n",
    "\n",
    "emails = ['test@gmail.com', 'xyz@test.in', 'test@ya.ru', 'xyz@mail.ru', 'xyz@ya.ru', 'xyz@gmail.com']\n",
    "\n",
    "Результат:\n",
    "\n",
    "gmail.com: 2\n",
    "test.in: 1 \n",
    "ya.ru: 2 \n",
    "mail.ru: 1"
   ]
  },
  {
   "cell_type": "code",
   "execution_count": 124,
   "metadata": {},
   "outputs": [
    {
     "name": "stdout",
     "output_type": "stream",
     "text": [
      "{'gmail.com': 2, 'test.in': 1, 'ya.ru': 3, 'mail.ru': 1}\n"
     ]
    }
   ],
   "source": [
    "import re\n",
    "\n",
    "class RegExpTsk:\n",
    "    def __init__(self, mail_pool):\n",
    "        self.pool = mail_pool\n",
    "        \n",
    "    def group_pool(self):\n",
    "        \n",
    "        group = {}\n",
    "        \n",
    "        for mail in self.pool:\n",
    "            domain = re.sub(r'^[^@]+@(.+)$', r'\\1', mail.strip())\n",
    "            \n",
    "            group.setdefault(domain,0)\n",
    "            group[domain] += 1\n",
    "        \n",
    "        return group\n",
    "\n",
    "mail_list = ['test@gmail.com', 'xyz@test.in', 'test@ya.ru', 'xyz@mail.ru', 'xyz@ya.ru', 'xyz@gmail.com', '123@ya.ru']\n",
    "    \n",
    "exmpl = RegExpTsk(mail_list)\n",
    "\n",
    "print(exmpl.group_pool())"
   ]
  },
  {
   "cell_type": "markdown",
   "metadata": {},
   "source": [
    "## Task 5\n",
    "Напишите функцию, которая будет подсчитывать сколько слов начинается на гласные, а сколько на согласные буквы в тексте (текст может быть написан как с использованием букв кириллицы, так и латиницы).\n",
    "\n",
    "Пример работы программы:\n",
    "\n",
    "some_text = 'Эталонной реализацией Python является интерпретатор CPython, поддерживающий большинство активно используемых платформ. Он распространяется под свободной лицензией Python Software Foundation License, позволяющей использовать его без ограничений в любых приложениях, включая проприетарные.'\n",
    "\n",
    "Результат:\n",
    "\n",
    "Слов на гласные буквы: 9\n",
    "Слов на согласные буквы: 21"
   ]
  },
  {
   "cell_type": "code",
   "execution_count": 129,
   "metadata": {},
   "outputs": [
    {
     "name": "stdout",
     "output_type": "stream",
     "text": [
      "Words starting with vovels: 9\n",
      "Words starting with consonants: 21\n"
     ]
    }
   ],
   "source": [
    "import re\n",
    "\n",
    "class RegExpTsk:\n",
    "    def __init__(self, string):\n",
    "        self.string = string\n",
    "        \n",
    "    def group_words(self):\n",
    "        \n",
    "        group = {'con': 0, 'vov': 0}\n",
    "        \n",
    "        for letter in re.findall(r'([^\\s])[^\\s]*(?:\\s|$)+', self.string):\n",
    "            if re.match(r'[бвгджзйклмнпрстфхцчшщBCDFGHJKLMNPQRSTVWXZ]', letter, re.IGNORECASE):\n",
    "                group['con'] += 1\n",
    "            else:\n",
    "                group['vov'] += 1\n",
    "        \n",
    "        return group\n",
    "    \n",
    "\n",
    "some_text = '''Эталонной реализацией Python является интерпретатор CPython, поддерживающий большинство активно \n",
    "             используемых платформ. Он распространяется под свободной лицензией Python Software Foundation License, \n",
    "             позволяющей использовать его без ограничений в любых приложениях, включая проприетарные.'''\n",
    "\n",
    "exmpl = RegExpTsk(some_text)\n",
    "words = exmpl.group_words()\n",
    "\n",
    "print('Words starting with vovels:', words['vov'])\n",
    "print('Words starting with consonants:', words['con'])"
   ]
  }
 ],
 "metadata": {
  "kernelspec": {
   "display_name": "Python 3",
   "language": "python",
   "name": "python3"
  },
  "language_info": {
   "codemirror_mode": {
    "name": "ipython",
    "version": 3
   },
   "file_extension": ".py",
   "mimetype": "text/x-python",
   "name": "python",
   "nbconvert_exporter": "python",
   "pygments_lexer": "ipython3",
   "version": "3.8.3"
  }
 },
 "nbformat": 4,
 "nbformat_minor": 4
}
