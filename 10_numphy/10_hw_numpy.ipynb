{
 "cells": [
  {
   "cell_type": "markdown",
   "metadata": {},
   "source": [
    "# Homework 10 Numpy"
   ]
  },
  {
   "cell_type": "markdown",
   "metadata": {},
   "source": [
    "## Task 1\n",
    "Создайте numpy array с элементами от числа N до 0 (например, для N = 10 это будет array([9, 8, 7, 6, 5, 4, 3, 2, 1, 0]))."
   ]
  },
  {
   "cell_type": "code",
   "execution_count": 19,
   "metadata": {
    "scrolled": true
   },
   "outputs": [
    {
     "name": "stdout",
     "output_type": "stream",
     "text": [
      "[9 8 7 6 5 4 3 2 1] <class 'numpy.ndarray'>\n"
     ]
    },
    {
     "data": {
      "text/plain": [
       "array([9, 8, 7, 6, 5, 4, 3, 2, 1])"
      ]
     },
     "execution_count": 19,
     "metadata": {},
     "output_type": "execute_result"
    }
   ],
   "source": [
    "import numpy as np\n",
    "\n",
    "N = 10\n",
    "\n",
    "x = np.arange(N-1,0,-1)\n",
    "\n",
    "print(x, type(x))\n",
    "x"
   ]
  },
  {
   "cell_type": "markdown",
   "metadata": {},
   "source": [
    "## Task 2\n",
    "Создайте диагональную матрицу с элементами от N до 0. Посчитайте сумму ее значений на диагонали."
   ]
  },
  {
   "cell_type": "code",
   "execution_count": 28,
   "metadata": {},
   "outputs": [
    {
     "name": "stdout",
     "output_type": "stream",
     "text": [
      "[[9 0 0 0 0 0 0 0 0]\n",
      " [0 8 0 0 0 0 0 0 0]\n",
      " [0 0 7 0 0 0 0 0 0]\n",
      " [0 0 0 6 0 0 0 0 0]\n",
      " [0 0 0 0 5 0 0 0 0]\n",
      " [0 0 0 0 0 4 0 0 0]\n",
      " [0 0 0 0 0 0 3 0 0]\n",
      " [0 0 0 0 0 0 0 2 0]\n",
      " [0 0 0 0 0 0 0 0 1]] 45\n"
     ]
    }
   ],
   "source": [
    "import numpy as np\n",
    "\n",
    "N = 10\n",
    "\n",
    "x = np.diag(np.arange(N-1,0,-1))\n",
    "\n",
    "print(x, np.trace(x))"
   ]
  },
  {
   "cell_type": "markdown",
   "metadata": {},
   "source": [
    "## Task 3\n",
    "Решите систему уравнений:\n",
    "4x + 2y + z = 4\n",
    "x + 3y = 12\n",
    "5y + 4z = -3"
   ]
  },
  {
   "cell_type": "code",
   "execution_count": 31,
   "metadata": {},
   "outputs": [
    {
     "data": {
      "text/plain": [
       "array([ 0.46666667,  3.84444444, -5.55555556])"
      ]
     },
     "execution_count": 31,
     "metadata": {},
     "output_type": "execute_result"
    }
   ],
   "source": [
    "import numpy as np\n",
    "\n",
    "l = np.array([ [4, 2, 1], \n",
    "               [1, 3, 0],\n",
    "               [0, 5, 4] ])\n",
    "\n",
    "r = np.array( [4, 12, -3] )\n",
    "\n",
    "np.linalg.solve(l,r)"
   ]
  },
  {
   "cell_type": "markdown",
   "metadata": {},
   "source": [
    "## Task 4\n",
    "Имеется матрица покупок в интернет-магазине. Столбец А - ID пользователя. Остальные столбцы - количество покупок категорий товаров этим пользователем.\n",
    "На сайт заходит очередной посетитель, о покупках которого известно следующее.\n",
    "Найдите самого похожего пользователя. Т. е. посчитайте косинусное сходство между этим пользователем и всеми пользователями из массива user_stats."
   ]
  },
  {
   "cell_type": "code",
   "execution_count": 68,
   "metadata": {
    "scrolled": true
   },
   "outputs": [
    {
     "data": {
      "text/plain": [
       "{0: 0.19999999999999996,\n",
       " 1: 0.8451542547285165,\n",
       " 2: 0.3999999999999999,\n",
       " 3: 0.7905694150420948,\n",
       " 4: 0.3999999999999999,\n",
       " 5: 0.0,\n",
       " 6: 0.0,\n",
       " 7: 0.9486832980505138,\n",
       " 8: 0.0,\n",
       " 9: 0.0}"
      ]
     },
     "execution_count": 68,
     "metadata": {},
     "output_type": "execute_result"
    }
   ],
   "source": [
    "import numpy as np\n",
    "\n",
    "\n",
    "class NumpyTsk:\n",
    "    def __init__(self, gen_stat, new_usr):\n",
    "        self.pool = gen_stat\n",
    "        self.usr  = new_usr\n",
    "        \n",
    "    @staticmethod\n",
    "    def cosim(unit_1, unit_2):\n",
    "        \"\"\" Returns cosine similarity of 2 given vectors\"\"\"\n",
    "        return np.dot(unit_1, unit_2)/(np.linalg.norm(unit_1) * np.linalg.norm(unit_2))\n",
    "        \n",
    "    def find_similarity(self):\n",
    "        \"\"\" \n",
    "        Returns a dict consists of cosine similarity between each vector from an array 'gen_stat'\n",
    "        and a single vector 'new_usr' (both given to the class instance); \n",
    "        dictionary keys - indexes of the appropriate array 'gen_stat' elements\n",
    "        \"\"\"\n",
    "        similarity = {}\n",
    "        \n",
    "        for i, unit in enumerate(self.pool):\n",
    "            similarity.setdefault(i)\n",
    "            similarity[i] = self.cosim(self.usr, unit)\n",
    "        \n",
    "        return similarity\n",
    "    \n",
    "        \n",
    "#########\n",
    "\n",
    "        \n",
    "users_stats = np.array(\n",
    "    [\n",
    "        [2, 1, 0, 0, 0, 0],\n",
    "        [1, 1, 2, 1, 0, 0],\n",
    "        [2, 0, 1, 0, 0, 0],\n",
    "        [1, 1, 2, 1, 0, 1],\n",
    "        [0, 0, 1, 2, 0, 0],\n",
    "        [0, 0, 0, 0, 0, 5],\n",
    "        [1, 0, 0, 0, 0, 0],\n",
    "        [0, 1, 1, 0, 0, 0],\n",
    "        [0, 0, 0, 1, 1, 3],\n",
    "        [1, 0, 0, 2, 1, 4]\n",
    "    ], \n",
    "    np.int32\n",
    ")\n",
    "\n",
    "next_user_stats = np.array([0, 1, 2, 0, 0, 0])\n",
    "\n",
    "exmpl = NumpyTsk(users_stats, next_user_stats)\n",
    "\n",
    "\n",
    "similarity = exmpl.find_similarity()\n",
    "similarity\n",
    "\n",
    "#max_sim_idx = max(similarity, key=similarity.get)\n",
    "#print('Max similarity', similarity[max_sim_idx], 'to the new user shows a user with ID', max_sim_idx )"
   ]
  }
 ],
 "metadata": {
  "kernelspec": {
   "display_name": "Python 3",
   "language": "python",
   "name": "python3"
  },
  "language_info": {
   "codemirror_mode": {
    "name": "ipython",
    "version": 3
   },
   "file_extension": ".py",
   "mimetype": "text/x-python",
   "name": "python",
   "nbconvert_exporter": "python",
   "pygments_lexer": "ipython3",
   "version": "3.8.3"
  }
 },
 "nbformat": 4,
 "nbformat_minor": 4
}
